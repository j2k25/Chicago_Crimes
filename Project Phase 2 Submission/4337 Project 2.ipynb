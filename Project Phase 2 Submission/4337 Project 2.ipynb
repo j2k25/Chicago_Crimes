{
 "cells": [
  {
   "cell_type": "code",
   "execution_count": 103,
   "metadata": {},
   "outputs": [
    {
     "name": "stdout",
     "output_type": "stream",
     "text": [
      "<class 'pandas.core.frame.DataFrame'>\n",
      "RangeIndex: 5755039 entries, 0 to 5755038\n",
      "Data columns (total 9 columns):\n",
      " #   Column                Dtype \n",
      "---  ------                ----- \n",
      " 0   Date                  object\n",
      " 1   Primary Type          object\n",
      " 2   Location Description  object\n",
      " 3   Arrest                bool  \n",
      " 4   Beat                  int64 \n",
      " 5   District              int64 \n",
      " 6   Ward                  int64 \n",
      " 7   Community Area        int64 \n",
      " 8   Year                  int64 \n",
      "dtypes: bool(1), int64(5), object(3)\n",
      "memory usage: 356.7+ MB\n",
      "Wall time: 9.75 s\n"
     ]
    },
    {
     "data": {
      "text/html": [
       "<div>\n",
       "<style scoped>\n",
       "    .dataframe tbody tr th:only-of-type {\n",
       "        vertical-align: middle;\n",
       "    }\n",
       "\n",
       "    .dataframe tbody tr th {\n",
       "        vertical-align: top;\n",
       "    }\n",
       "\n",
       "    .dataframe thead th {\n",
       "        text-align: right;\n",
       "    }\n",
       "</style>\n",
       "<table border=\"1\" class=\"dataframe\">\n",
       "  <thead>\n",
       "    <tr style=\"text-align: right;\">\n",
       "      <th></th>\n",
       "      <th>Date</th>\n",
       "      <th>Primary Type</th>\n",
       "      <th>Location Description</th>\n",
       "      <th>Arrest</th>\n",
       "      <th>Beat</th>\n",
       "      <th>District</th>\n",
       "      <th>Ward</th>\n",
       "      <th>Community Area</th>\n",
       "      <th>Year</th>\n",
       "    </tr>\n",
       "  </thead>\n",
       "  <tbody>\n",
       "    <tr>\n",
       "      <th>0</th>\n",
       "      <td>07/26/2001 06:00:00 PM</td>\n",
       "      <td>MOTOR VEHICLE THEFT</td>\n",
       "      <td>STREET</td>\n",
       "      <td>False</td>\n",
       "      <td>723</td>\n",
       "      <td>7</td>\n",
       "      <td>16</td>\n",
       "      <td>68</td>\n",
       "      <td>2001</td>\n",
       "    </tr>\n",
       "    <tr>\n",
       "      <th>1</th>\n",
       "      <td>09/02/2001 06:00:00 PM</td>\n",
       "      <td>DECEPTIVE PRACTICE</td>\n",
       "      <td>PARK PROPERTY</td>\n",
       "      <td>False</td>\n",
       "      <td>932</td>\n",
       "      <td>9</td>\n",
       "      <td>16</td>\n",
       "      <td>61</td>\n",
       "      <td>2001</td>\n",
       "    </tr>\n",
       "    <tr>\n",
       "      <th>2</th>\n",
       "      <td>08/17/2001 05:30:00 AM</td>\n",
       "      <td>MOTOR VEHICLE THEFT</td>\n",
       "      <td>STREET</td>\n",
       "      <td>False</td>\n",
       "      <td>821</td>\n",
       "      <td>8</td>\n",
       "      <td>14</td>\n",
       "      <td>58</td>\n",
       "      <td>2001</td>\n",
       "    </tr>\n",
       "    <tr>\n",
       "      <th>3</th>\n",
       "      <td>07/09/2001 04:30:00 PM</td>\n",
       "      <td>DECEPTIVE PRACTICE</td>\n",
       "      <td>CURRENCY EXCHANGE</td>\n",
       "      <td>True</td>\n",
       "      <td>1623</td>\n",
       "      <td>16</td>\n",
       "      <td>45</td>\n",
       "      <td>11</td>\n",
       "      <td>2001</td>\n",
       "    </tr>\n",
       "    <tr>\n",
       "      <th>4</th>\n",
       "      <td>08/15/2001 11:30:00 PM</td>\n",
       "      <td>BURGLARY</td>\n",
       "      <td>RESTAURANT</td>\n",
       "      <td>True</td>\n",
       "      <td>1925</td>\n",
       "      <td>19</td>\n",
       "      <td>46</td>\n",
       "      <td>6</td>\n",
       "      <td>2001</td>\n",
       "    </tr>\n",
       "    <tr>\n",
       "      <th>...</th>\n",
       "      <td>...</td>\n",
       "      <td>...</td>\n",
       "      <td>...</td>\n",
       "      <td>...</td>\n",
       "      <td>...</td>\n",
       "      <td>...</td>\n",
       "      <td>...</td>\n",
       "      <td>...</td>\n",
       "      <td>...</td>\n",
       "    </tr>\n",
       "    <tr>\n",
       "      <th>5755034</th>\n",
       "      <td>01/18/2021 05:45:00 PM</td>\n",
       "      <td>DECEPTIVE PRACTICE</td>\n",
       "      <td>RESIDENCE</td>\n",
       "      <td>False</td>\n",
       "      <td>1111</td>\n",
       "      <td>11</td>\n",
       "      <td>37</td>\n",
       "      <td>23</td>\n",
       "      <td>2021</td>\n",
       "    </tr>\n",
       "    <tr>\n",
       "      <th>5755035</th>\n",
       "      <td>01/18/2021 10:17:00 AM</td>\n",
       "      <td>THEFT</td>\n",
       "      <td>OTHER (SPECIFY)</td>\n",
       "      <td>False</td>\n",
       "      <td>2221</td>\n",
       "      <td>22</td>\n",
       "      <td>21</td>\n",
       "      <td>73</td>\n",
       "      <td>2021</td>\n",
       "    </tr>\n",
       "    <tr>\n",
       "      <th>5755036</th>\n",
       "      <td>01/18/2021 09:30:00 PM</td>\n",
       "      <td>ROBBERY</td>\n",
       "      <td>SIDEWALK</td>\n",
       "      <td>False</td>\n",
       "      <td>1211</td>\n",
       "      <td>12</td>\n",
       "      <td>1</td>\n",
       "      <td>24</td>\n",
       "      <td>2021</td>\n",
       "    </tr>\n",
       "    <tr>\n",
       "      <th>5755037</th>\n",
       "      <td>01/18/2021 01:04:00 AM</td>\n",
       "      <td>OTHER OFFENSE</td>\n",
       "      <td>STREET</td>\n",
       "      <td>True</td>\n",
       "      <td>131</td>\n",
       "      <td>1</td>\n",
       "      <td>3</td>\n",
       "      <td>33</td>\n",
       "      <td>2021</td>\n",
       "    </tr>\n",
       "    <tr>\n",
       "      <th>5755038</th>\n",
       "      <td>02/21/2021 11:02:00 PM</td>\n",
       "      <td>CRIMINAL DAMAGE</td>\n",
       "      <td>RESIDENCE</td>\n",
       "      <td>False</td>\n",
       "      <td>524</td>\n",
       "      <td>5</td>\n",
       "      <td>34</td>\n",
       "      <td>53</td>\n",
       "      <td>2021</td>\n",
       "    </tr>\n",
       "  </tbody>\n",
       "</table>\n",
       "<p>5755039 rows × 9 columns</p>\n",
       "</div>"
      ],
      "text/plain": [
       "                           Date         Primary Type Location Description  \\\n",
       "0        07/26/2001 06:00:00 PM  MOTOR VEHICLE THEFT               STREET   \n",
       "1        09/02/2001 06:00:00 PM   DECEPTIVE PRACTICE        PARK PROPERTY   \n",
       "2        08/17/2001 05:30:00 AM  MOTOR VEHICLE THEFT               STREET   \n",
       "3        07/09/2001 04:30:00 PM   DECEPTIVE PRACTICE    CURRENCY EXCHANGE   \n",
       "4        08/15/2001 11:30:00 PM             BURGLARY           RESTAURANT   \n",
       "...                         ...                  ...                  ...   \n",
       "5755034  01/18/2021 05:45:00 PM   DECEPTIVE PRACTICE            RESIDENCE   \n",
       "5755035  01/18/2021 10:17:00 AM                THEFT      OTHER (SPECIFY)   \n",
       "5755036  01/18/2021 09:30:00 PM              ROBBERY             SIDEWALK   \n",
       "5755037  01/18/2021 01:04:00 AM        OTHER OFFENSE               STREET   \n",
       "5755038  02/21/2021 11:02:00 PM      CRIMINAL DAMAGE            RESIDENCE   \n",
       "\n",
       "         Arrest  Beat  District  Ward  Community Area  Year  \n",
       "0         False   723         7    16              68  2001  \n",
       "1         False   932         9    16              61  2001  \n",
       "2         False   821         8    14              58  2001  \n",
       "3          True  1623        16    45              11  2001  \n",
       "4          True  1925        19    46               6  2001  \n",
       "...         ...   ...       ...   ...             ...   ...  \n",
       "5755034   False  1111        11    37              23  2021  \n",
       "5755035   False  2221        22    21              73  2021  \n",
       "5755036   False  1211        12     1              24  2021  \n",
       "5755037    True   131         1     3              33  2021  \n",
       "5755038   False   524         5    34              53  2021  \n",
       "\n",
       "[5755039 rows x 9 columns]"
      ]
     },
     "execution_count": 103,
     "metadata": {},
     "output_type": "execute_result"
    }
   ],
   "source": [
    "%%time\n",
    "\n",
    "import numpy as np\n",
    "import pandas as pd\n",
    "import seaborn as sb\n",
    "\n",
    "chi = pd.read_csv(\"chi.csv\")\n",
    "\n",
    "chi.info()\n",
    "chi\n"
   ]
  },
  {
   "cell_type": "code",
   "execution_count": 2,
   "metadata": {},
   "outputs": [
    {
     "name": "stdout",
     "output_type": "stream",
     "text": [
      "<class 'pandas.core.frame.DataFrame'>\n",
      "RangeIndex: 5755039 entries, 0 to 5755038\n",
      "Data columns (total 4 columns):\n",
      " #   Column          Dtype\n",
      "---  ------          -----\n",
      " 0   Beat            int64\n",
      " 1   District        int64\n",
      " 2   Ward            int64\n",
      " 3   Community Area  int64\n",
      "dtypes: int64(4)\n",
      "memory usage: 175.6 MB\n"
     ]
    },
    {
     "data": {
      "text/html": [
       "<div>\n",
       "<style scoped>\n",
       "    .dataframe tbody tr th:only-of-type {\n",
       "        vertical-align: middle;\n",
       "    }\n",
       "\n",
       "    .dataframe tbody tr th {\n",
       "        vertical-align: top;\n",
       "    }\n",
       "\n",
       "    .dataframe thead th {\n",
       "        text-align: right;\n",
       "    }\n",
       "</style>\n",
       "<table border=\"1\" class=\"dataframe\">\n",
       "  <thead>\n",
       "    <tr style=\"text-align: right;\">\n",
       "      <th></th>\n",
       "      <th>Beat</th>\n",
       "      <th>District</th>\n",
       "      <th>Ward</th>\n",
       "      <th>Community Area</th>\n",
       "    </tr>\n",
       "  </thead>\n",
       "  <tbody>\n",
       "    <tr>\n",
       "      <th>0</th>\n",
       "      <td>723</td>\n",
       "      <td>7</td>\n",
       "      <td>16</td>\n",
       "      <td>68</td>\n",
       "    </tr>\n",
       "    <tr>\n",
       "      <th>1</th>\n",
       "      <td>932</td>\n",
       "      <td>9</td>\n",
       "      <td>16</td>\n",
       "      <td>61</td>\n",
       "    </tr>\n",
       "    <tr>\n",
       "      <th>2</th>\n",
       "      <td>821</td>\n",
       "      <td>8</td>\n",
       "      <td>14</td>\n",
       "      <td>58</td>\n",
       "    </tr>\n",
       "    <tr>\n",
       "      <th>3</th>\n",
       "      <td>1623</td>\n",
       "      <td>16</td>\n",
       "      <td>45</td>\n",
       "      <td>11</td>\n",
       "    </tr>\n",
       "    <tr>\n",
       "      <th>4</th>\n",
       "      <td>1925</td>\n",
       "      <td>19</td>\n",
       "      <td>46</td>\n",
       "      <td>6</td>\n",
       "    </tr>\n",
       "    <tr>\n",
       "      <th>...</th>\n",
       "      <td>...</td>\n",
       "      <td>...</td>\n",
       "      <td>...</td>\n",
       "      <td>...</td>\n",
       "    </tr>\n",
       "    <tr>\n",
       "      <th>5755034</th>\n",
       "      <td>1111</td>\n",
       "      <td>11</td>\n",
       "      <td>37</td>\n",
       "      <td>23</td>\n",
       "    </tr>\n",
       "    <tr>\n",
       "      <th>5755035</th>\n",
       "      <td>2221</td>\n",
       "      <td>22</td>\n",
       "      <td>21</td>\n",
       "      <td>73</td>\n",
       "    </tr>\n",
       "    <tr>\n",
       "      <th>5755036</th>\n",
       "      <td>1211</td>\n",
       "      <td>12</td>\n",
       "      <td>1</td>\n",
       "      <td>24</td>\n",
       "    </tr>\n",
       "    <tr>\n",
       "      <th>5755037</th>\n",
       "      <td>131</td>\n",
       "      <td>1</td>\n",
       "      <td>3</td>\n",
       "      <td>33</td>\n",
       "    </tr>\n",
       "    <tr>\n",
       "      <th>5755038</th>\n",
       "      <td>524</td>\n",
       "      <td>5</td>\n",
       "      <td>34</td>\n",
       "      <td>53</td>\n",
       "    </tr>\n",
       "  </tbody>\n",
       "</table>\n",
       "<p>5755039 rows × 4 columns</p>\n",
       "</div>"
      ],
      "text/plain": [
       "         Beat  District  Ward  Community Area\n",
       "0         723         7    16              68\n",
       "1         932         9    16              61\n",
       "2         821         8    14              58\n",
       "3        1623        16    45              11\n",
       "4        1925        19    46               6\n",
       "...       ...       ...   ...             ...\n",
       "5755034  1111        11    37              23\n",
       "5755035  2221        22    21              73\n",
       "5755036  1211        12     1              24\n",
       "5755037   131         1     3              33\n",
       "5755038   524         5    34              53\n",
       "\n",
       "[5755039 rows x 4 columns]"
      ]
     },
     "metadata": {},
     "output_type": "display_data"
    },
    {
     "data": {
      "text/html": [
       "<div>\n",
       "<style scoped>\n",
       "    .dataframe tbody tr th:only-of-type {\n",
       "        vertical-align: middle;\n",
       "    }\n",
       "\n",
       "    .dataframe tbody tr th {\n",
       "        vertical-align: top;\n",
       "    }\n",
       "\n",
       "    .dataframe thead th {\n",
       "        text-align: right;\n",
       "    }\n",
       "</style>\n",
       "<table border=\"1\" class=\"dataframe\">\n",
       "  <thead>\n",
       "    <tr style=\"text-align: right;\">\n",
       "      <th></th>\n",
       "      <th>Beat</th>\n",
       "      <th>District</th>\n",
       "      <th>Ward</th>\n",
       "      <th>Community Area</th>\n",
       "    </tr>\n",
       "  </thead>\n",
       "  <tbody>\n",
       "    <tr>\n",
       "      <th>Beat</th>\n",
       "      <td>495521.896866</td>\n",
       "      <td>4638.385398</td>\n",
       "      <td>6275.906152</td>\n",
       "      <td>-7622.372458</td>\n",
       "    </tr>\n",
       "    <tr>\n",
       "      <th>District</th>\n",
       "      <td>4638.385398</td>\n",
       "      <td>48.415767</td>\n",
       "      <td>66.560283</td>\n",
       "      <td>-74.533884</td>\n",
       "    </tr>\n",
       "    <tr>\n",
       "      <th>Ward</th>\n",
       "      <td>6275.906152</td>\n",
       "      <td>66.560283</td>\n",
       "      <td>196.378222</td>\n",
       "      <td>-160.212530</td>\n",
       "    </tr>\n",
       "    <tr>\n",
       "      <th>Community Area</th>\n",
       "      <td>-7622.372458</td>\n",
       "      <td>-74.533884</td>\n",
       "      <td>-160.212530</td>\n",
       "      <td>466.010943</td>\n",
       "    </tr>\n",
       "  </tbody>\n",
       "</table>\n",
       "</div>"
      ],
      "text/plain": [
       "                         Beat     District         Ward  Community Area\n",
       "Beat            495521.896866  4638.385398  6275.906152    -7622.372458\n",
       "District          4638.385398    48.415767    66.560283      -74.533884\n",
       "Ward              6275.906152    66.560283   196.378222     -160.212530\n",
       "Community Area   -7622.372458   -74.533884  -160.212530      466.010943"
      ]
     },
     "metadata": {},
     "output_type": "display_data"
    },
    {
     "data": {
      "text/html": [
       "<div>\n",
       "<style scoped>\n",
       "    .dataframe tbody tr th:only-of-type {\n",
       "        vertical-align: middle;\n",
       "    }\n",
       "\n",
       "    .dataframe tbody tr th {\n",
       "        vertical-align: top;\n",
       "    }\n",
       "\n",
       "    .dataframe thead th {\n",
       "        text-align: right;\n",
       "    }\n",
       "</style>\n",
       "<table border=\"1\" class=\"dataframe\">\n",
       "  <thead>\n",
       "    <tr style=\"text-align: right;\">\n",
       "      <th></th>\n",
       "      <th>Beat</th>\n",
       "      <th>District</th>\n",
       "      <th>Ward</th>\n",
       "      <th>Community Area</th>\n",
       "    </tr>\n",
       "  </thead>\n",
       "  <tbody>\n",
       "    <tr>\n",
       "      <th>Beat</th>\n",
       "      <td>1.000000</td>\n",
       "      <td>0.999998</td>\n",
       "      <td>0.999716</td>\n",
       "      <td>-0.998905</td>\n",
       "    </tr>\n",
       "    <tr>\n",
       "      <th>District</th>\n",
       "      <td>0.999998</td>\n",
       "      <td>1.000000</td>\n",
       "      <td>0.999759</td>\n",
       "      <td>-0.998997</td>\n",
       "    </tr>\n",
       "    <tr>\n",
       "      <th>Ward</th>\n",
       "      <td>0.999716</td>\n",
       "      <td>0.999759</td>\n",
       "      <td>1.000000</td>\n",
       "      <td>-0.999597</td>\n",
       "    </tr>\n",
       "    <tr>\n",
       "      <th>Community Area</th>\n",
       "      <td>-0.998905</td>\n",
       "      <td>-0.998997</td>\n",
       "      <td>-0.999597</td>\n",
       "      <td>1.000000</td>\n",
       "    </tr>\n",
       "  </tbody>\n",
       "</table>\n",
       "</div>"
      ],
      "text/plain": [
       "                    Beat  District      Ward  Community Area\n",
       "Beat            1.000000  0.999998  0.999716       -0.998905\n",
       "District        0.999998  1.000000  0.999759       -0.998997\n",
       "Ward            0.999716  0.999759  1.000000       -0.999597\n",
       "Community Area -0.998905 -0.998997 -0.999597        1.000000"
      ]
     },
     "metadata": {},
     "output_type": "display_data"
    },
    {
     "name": "stdout",
     "output_type": "stream",
     "text": [
      "Wall time: 811 ms\n"
     ]
    }
   ],
   "source": [
    "%%time\n",
    "# pd.show_versions()\n",
    "\n",
    "test2 = chi.iloc[:, [4,5,6,7]] # group attributes as Places\n",
    "# test2 = test2.astype('float')\n",
    "\n",
    "test2.info()                # data summary\n",
    "display(test2)              # data reference\n",
    "display(test2.cov())        # covariance matrix\n",
    "display(test2.cov().corr()) # displays 10 pairs correlation\n",
    "\n",
    "#Note to Self:\n",
    "#In a negative correlation, the variables move in inverse, or opposite, directions. In other words,\n",
    "# as one variable increases, the other variable decreases. ... When two variables have a positive\n",
    "# correlation, it means the variables move in the same direction. This means that as one variable\n",
    "# increases, so does the other one (www.simplypsychology.org).\n"
   ]
  },
  {
   "cell_type": "code",
   "execution_count": 3,
   "metadata": {},
   "outputs": [
    {
     "name": "stdout",
     "output_type": "stream",
     "text": [
      "['MOTOR VEHICLE THEFT' 'DECEPTIVE PRACTICE' 'BURGLARY' 'HOMICIDE'\n",
      " 'SEX OFFENSE' 'OFFENSE INVOLVING CHILDREN' 'CRIMINAL TRESPASS' 'BATTERY'\n",
      " 'ROBBERY' 'THEFT' 'CRIM SEXUAL ASSAULT' 'OTHER OFFENSE' 'CRIMINAL DAMAGE'\n",
      " 'ASSAULT' 'INTIMIDATION' 'WEAPONS VIOLATION' 'ARSON'\n",
      " 'PUBLIC PEACE VIOLATION' 'CRIMINAL SEXUAL ASSAULT' 'NARCOTICS'\n",
      " 'PROSTITUTION' 'LIQUOR LAW VIOLATION' 'GAMBLING' 'KIDNAPPING'\n",
      " 'INTERFERENCE WITH PUBLIC OFFICER' 'STALKING' 'RITUALISM' 'OBSCENITY'\n",
      " 'PUBLIC INDECENCY' 'OTHER NARCOTIC VIOLATION' 'NON-CRIMINAL'\n",
      " 'NON-CRIMINAL (SUBJECT SPECIFIED)' 'HUMAN TRAFFICKING' 'NON - CRIMINAL'\n",
      " 'CONCEALED CARRY LICENSE VIOLATION']\n",
      "Date                    2434725\n",
      "Primary Type                 35\n",
      "Location Description        214\n",
      "Arrest                        2\n",
      "Beat                        303\n",
      "District                     24\n",
      "Ward                         50\n",
      "Community Area               78\n",
      "Year                         21\n",
      "dtype: int64\n",
      "Wall time: 7.15 s\n"
     ]
    }
   ],
   "source": [
    "%%time\n",
    "\n",
    "print(chi['Primary Type'].unique())\n",
    "print(chi.nunique())"
   ]
  },
  {
   "cell_type": "code",
   "execution_count": 4,
   "metadata": {},
   "outputs": [
    {
     "name": "stdout",
     "output_type": "stream",
     "text": [
      "[1 2]\n",
      "Date                    2434725\n",
      "Primary Type                  2\n",
      "Location Description        214\n",
      "Arrest                        2\n",
      "Beat                        303\n",
      "District                     24\n",
      "Ward                         50\n",
      "Community Area               78\n",
      "Year                         21\n",
      "dtype: int64\n",
      "Wall time: 14.3 s\n"
     ]
    }
   ],
   "source": [
    "%%time\n",
    "\n",
    "chi['Primary Type'] = chi['Primary Type'].replace(['MOTOR VEHICLE THEFT','BURGLARY','HOMICIDE',\n",
    " 'SEX OFFENSE','OFFENSE INVOLVING CHILDREN','ROBBERY','THEFT','CRIM SEXUAL ASSAULT','INTIMIDATION',\n",
    " 'ARSON','CRIMINAL SEXUAL ASSAULT','NARCOTICS','KIDNAPPING','STALKING','RITUALISM',\n",
    " 'OTHER NARCOTIC VIOLATION','HUMAN TRAFFICKING'], 1)\n",
    "\n",
    "chi['Primary Type'] = chi['Primary Type'].replace(['DECEPTIVE PRACTICE','CRIMINAL TRESPASS','BATTERY',\n",
    " 'OTHER OFFENSE','CRIMINAL DAMAGE','ASSAULT','WEAPONS VIOLATION','PUBLIC PEACE VIOLATION',\n",
    " 'PROSTITUTION','LIQUOR LAW VIOLATION','GAMBLING','INTERFERENCE WITH PUBLIC OFFICER','OBSCENITY',\n",
    " 'PUBLIC INDECENCY','NON-CRIMINAL','NON-CRIMINAL (SUBJECT SPECIFIED)',\n",
    " 'NON - CRIMINAL','CONCEALED CARRY LICENSE VIOLATION'], 2)\n",
    "\n",
    "print(chi['Primary Type'].unique())\n",
    "print(chi.nunique())\n"
   ]
  },
  {
   "cell_type": "code",
   "execution_count": 5,
   "metadata": {},
   "outputs": [
    {
     "name": "stdout",
     "output_type": "stream",
     "text": [
      "<class 'pandas.core.frame.DataFrame'>\n",
      "RangeIndex: 5755039 entries, 0 to 5755038\n",
      "Data columns (total 9 columns):\n",
      " #   Column                Dtype \n",
      "---  ------                ----- \n",
      " 0   Date                  object\n",
      " 1   Primary Type          int64 \n",
      " 2   Location Description  object\n",
      " 3   Arrest                bool  \n",
      " 4   Beat                  int64 \n",
      " 5   District              int64 \n",
      " 6   Ward                  int64 \n",
      " 7   Community Area        int64 \n",
      " 8   Year                  int64 \n",
      "dtypes: bool(1), int64(6), object(2)\n",
      "memory usage: 356.7+ MB\n",
      "<class 'pandas.core.frame.DataFrame'>\n",
      "RangeIndex: 5755039 entries, 0 to 5755038\n",
      "Data columns (total 3 columns):\n",
      " #   Column        Dtype\n",
      "---  ------        -----\n",
      " 0   Primary Type  int64\n",
      " 1   Arrest        bool \n",
      " 2   Beat          int64\n",
      "dtypes: bool(1), int64(2)\n",
      "memory usage: 93.3 MB\n",
      "Wall time: 646 ms\n"
     ]
    }
   ],
   "source": [
    "%%time\n",
    "\n",
    "chi.info()\n",
    "chi.pop('Date')\n",
    "chi.pop('Location Description')\n",
    "chi.pop('District')\n",
    "chi.pop('Ward')\n",
    "chi.pop('Community Area')\n",
    "chi.pop('Year')\n",
    "\n",
    "chi.info()\n"
   ]
  },
  {
   "cell_type": "code",
   "execution_count": 6,
   "metadata": {},
   "outputs": [
    {
     "name": "stdout",
     "output_type": "stream",
     "text": [
      "[False  True]\n",
      "[0 1]\n",
      "Primary Type      2\n",
      "Arrest            2\n",
      "Beat            303\n",
      "dtype: int64\n",
      "<class 'pandas.core.frame.DataFrame'>\n",
      "RangeIndex: 5755039 entries, 0 to 5755038\n",
      "Data columns (total 3 columns):\n",
      " #   Column        Dtype\n",
      "---  ------        -----\n",
      " 0   Primary Type  int32\n",
      " 1   Arrest        int32\n",
      " 2   Beat          int32\n",
      "dtypes: int32(3)\n",
      "memory usage: 65.9 MB\n",
      "None\n",
      "Wall time: 661 ms\n"
     ]
    }
   ],
   "source": [
    "%%time\n",
    "\n",
    "print(chi['Arrest'].unique())\n",
    "\n",
    "# chi['Arrest'] = chi['Arrest'].replace(['False'], 0)\n",
    "# chi['Arrest'] = chi['Arrest'].replace(['True'], 1)\n",
    "# chi['Arrest'] = chi['Arrest'].astype(int)\n",
    "chi = chi.astype(int)\n",
    "\n",
    "print(chi['Arrest'].unique())\n",
    "print(chi.nunique())\n",
    "print(chi.info())"
   ]
  },
  {
   "cell_type": "code",
   "execution_count": 7,
   "metadata": {},
   "outputs": [
    {
     "name": "stdout",
     "output_type": "stream",
     "text": [
      "[ 723  932  821 1623 1925 2531  934 1424 1034  823  511 2223 1711 1731\n",
      "  611 2521 2323  431  132  835 1831  124 2515  113 2523  523  322 1434\n",
      "  734 1122  913 1313 1651 1532  634 2522 1622 1813 2534 1531 2213 1112\n",
      " 2022  834 1115  424  411 1533 1814  614 1824 1421  921 1713 1222 1111\n",
      " 1121 1512  612  134  423 2411 2232 2011 1433 1123 1324 2525 1634 2133\n",
      " 1031 1722  633 1912  433 2431 1024  632 1522  332  211 2234 2535  833\n",
      " 1832  513  215 2233  422  532 1732 2513  832  223 1624 1224  122 1733\n",
      "  935  631  724 1913 1834 1821  512 1233  313 1712 1511 1033  232 2512\n",
      " 1933 2122 1113 2023  732  813 1723 1724 1134  212  323  733  421 1833\n",
      "  922 1413 1523  214  531 1232  224 1132  414 1114  915  825 2124 1211\n",
      " 1013 1811 1022  824 1633  233 1331 2222 1614 1423 1524  731 2412 2333\n",
      "  711 2524 2532  123 2533 1032 2013 1513 2123 1632  712  324 1311  911\n",
      " 1432  413 2032  713 2332 1611 1012  912  815 2433 1125  715 1124 1135\n",
      "  321  714 2112  931  831 1312  914  333 1231  814 2324  524  722 2212\n",
      "  331  621 1223  311  111  334 1812 1212 1332 1131  234  412 1613 1412\n",
      "  624  522  623  434  822  131 1322 1922 1323 2211 1422  933  924 1411\n",
      " 1932  812 2514  533 1133 2024 2012  112 1924  225  213 2111 1333 1621\n",
      "  735 2413 1213 1823  622 1822 2312 2511 2313  811 1414 2432  613 1023\n",
      "  314 1011  432  231  725 2113 2031 2132 1931 1431  221 1021 2221 2311\n",
      " 2331 2424  312  133 2322 1014  925 1631 2423 1911 2033  923 1214  222\n",
      " 1923 2422 1221 2131  726 1612 1921 1914 1225 1234 1934 1915 1235 1935\n",
      "  114  121 1654  430 1215 1653  235 1652 1655]\n",
      "Primary Type      2\n",
      "Arrest            2\n",
      "Beat            303\n",
      "dtype: int64\n"
     ]
    },
    {
     "data": {
      "text/html": [
       "<div>\n",
       "<style scoped>\n",
       "    .dataframe tbody tr th:only-of-type {\n",
       "        vertical-align: middle;\n",
       "    }\n",
       "\n",
       "    .dataframe tbody tr th {\n",
       "        vertical-align: top;\n",
       "    }\n",
       "\n",
       "    .dataframe thead th {\n",
       "        text-align: right;\n",
       "    }\n",
       "</style>\n",
       "<table border=\"1\" class=\"dataframe\">\n",
       "  <thead>\n",
       "    <tr style=\"text-align: right;\">\n",
       "      <th></th>\n",
       "      <th>Primary Type</th>\n",
       "      <th>Arrest</th>\n",
       "      <th>Beat</th>\n",
       "    </tr>\n",
       "  </thead>\n",
       "  <tbody>\n",
       "    <tr>\n",
       "      <th>count</th>\n",
       "      <td>5.755039e+06</td>\n",
       "      <td>5.755039e+06</td>\n",
       "      <td>5.755039e+06</td>\n",
       "    </tr>\n",
       "    <tr>\n",
       "      <th>mean</th>\n",
       "      <td>1.467536e+00</td>\n",
       "      <td>2.804895e-01</td>\n",
       "      <td>1.197212e+03</td>\n",
       "    </tr>\n",
       "    <tr>\n",
       "      <th>std</th>\n",
       "      <td>4.989450e-01</td>\n",
       "      <td>4.492384e-01</td>\n",
       "      <td>7.039332e+02</td>\n",
       "    </tr>\n",
       "    <tr>\n",
       "      <th>min</th>\n",
       "      <td>1.000000e+00</td>\n",
       "      <td>0.000000e+00</td>\n",
       "      <td>1.110000e+02</td>\n",
       "    </tr>\n",
       "    <tr>\n",
       "      <th>25%</th>\n",
       "      <td>1.000000e+00</td>\n",
       "      <td>0.000000e+00</td>\n",
       "      <td>6.230000e+02</td>\n",
       "    </tr>\n",
       "    <tr>\n",
       "      <th>50%</th>\n",
       "      <td>1.000000e+00</td>\n",
       "      <td>0.000000e+00</td>\n",
       "      <td>1.112000e+03</td>\n",
       "    </tr>\n",
       "    <tr>\n",
       "      <th>75%</th>\n",
       "      <td>2.000000e+00</td>\n",
       "      <td>1.000000e+00</td>\n",
       "      <td>1.733000e+03</td>\n",
       "    </tr>\n",
       "    <tr>\n",
       "      <th>max</th>\n",
       "      <td>2.000000e+00</td>\n",
       "      <td>1.000000e+00</td>\n",
       "      <td>2.535000e+03</td>\n",
       "    </tr>\n",
       "  </tbody>\n",
       "</table>\n",
       "</div>"
      ],
      "text/plain": [
       "       Primary Type        Arrest          Beat\n",
       "count  5.755039e+06  5.755039e+06  5.755039e+06\n",
       "mean   1.467536e+00  2.804895e-01  1.197212e+03\n",
       "std    4.989450e-01  4.492384e-01  7.039332e+02\n",
       "min    1.000000e+00  0.000000e+00  1.110000e+02\n",
       "25%    1.000000e+00  0.000000e+00  6.230000e+02\n",
       "50%    1.000000e+00  0.000000e+00  1.112000e+03\n",
       "75%    2.000000e+00  1.000000e+00  1.733000e+03\n",
       "max    2.000000e+00  1.000000e+00  2.535000e+03"
      ]
     },
     "metadata": {},
     "output_type": "display_data"
    },
    {
     "data": {
      "text/html": [
       "<div>\n",
       "<style scoped>\n",
       "    .dataframe tbody tr th:only-of-type {\n",
       "        vertical-align: middle;\n",
       "    }\n",
       "\n",
       "    .dataframe tbody tr th {\n",
       "        vertical-align: top;\n",
       "    }\n",
       "\n",
       "    .dataframe thead th {\n",
       "        text-align: right;\n",
       "    }\n",
       "</style>\n",
       "<table border=\"1\" class=\"dataframe\">\n",
       "  <thead>\n",
       "    <tr style=\"text-align: right;\">\n",
       "      <th></th>\n",
       "      <th>Primary Type</th>\n",
       "      <th>Arrest</th>\n",
       "      <th>Beat</th>\n",
       "    </tr>\n",
       "  </thead>\n",
       "  <tbody>\n",
       "    <tr>\n",
       "      <th>0</th>\n",
       "      <td>1</td>\n",
       "      <td>0</td>\n",
       "      <td>723</td>\n",
       "    </tr>\n",
       "    <tr>\n",
       "      <th>1</th>\n",
       "      <td>2</td>\n",
       "      <td>0</td>\n",
       "      <td>932</td>\n",
       "    </tr>\n",
       "    <tr>\n",
       "      <th>2</th>\n",
       "      <td>1</td>\n",
       "      <td>0</td>\n",
       "      <td>821</td>\n",
       "    </tr>\n",
       "    <tr>\n",
       "      <th>3</th>\n",
       "      <td>2</td>\n",
       "      <td>1</td>\n",
       "      <td>1623</td>\n",
       "    </tr>\n",
       "    <tr>\n",
       "      <th>4</th>\n",
       "      <td>1</td>\n",
       "      <td>1</td>\n",
       "      <td>1925</td>\n",
       "    </tr>\n",
       "    <tr>\n",
       "      <th>...</th>\n",
       "      <td>...</td>\n",
       "      <td>...</td>\n",
       "      <td>...</td>\n",
       "    </tr>\n",
       "    <tr>\n",
       "      <th>5755034</th>\n",
       "      <td>2</td>\n",
       "      <td>0</td>\n",
       "      <td>1111</td>\n",
       "    </tr>\n",
       "    <tr>\n",
       "      <th>5755035</th>\n",
       "      <td>1</td>\n",
       "      <td>0</td>\n",
       "      <td>2221</td>\n",
       "    </tr>\n",
       "    <tr>\n",
       "      <th>5755036</th>\n",
       "      <td>1</td>\n",
       "      <td>0</td>\n",
       "      <td>1211</td>\n",
       "    </tr>\n",
       "    <tr>\n",
       "      <th>5755037</th>\n",
       "      <td>2</td>\n",
       "      <td>1</td>\n",
       "      <td>131</td>\n",
       "    </tr>\n",
       "    <tr>\n",
       "      <th>5755038</th>\n",
       "      <td>2</td>\n",
       "      <td>0</td>\n",
       "      <td>524</td>\n",
       "    </tr>\n",
       "  </tbody>\n",
       "</table>\n",
       "<p>5755039 rows × 3 columns</p>\n",
       "</div>"
      ],
      "text/plain": [
       "         Primary Type  Arrest  Beat\n",
       "0                   1       0   723\n",
       "1                   2       0   932\n",
       "2                   1       0   821\n",
       "3                   2       1  1623\n",
       "4                   1       1  1925\n",
       "...               ...     ...   ...\n",
       "5755034             2       0  1111\n",
       "5755035             1       0  2221\n",
       "5755036             1       0  1211\n",
       "5755037             2       1   131\n",
       "5755038             2       0   524\n",
       "\n",
       "[5755039 rows x 3 columns]"
      ]
     },
     "metadata": {},
     "output_type": "display_data"
    },
    {
     "name": "stdout",
     "output_type": "stream",
     "text": [
      "Wall time: 932 ms\n"
     ]
    }
   ],
   "source": [
    "%%time\n",
    "\n",
    "print(chi['Beat'].unique())\n",
    "print(chi.nunique())\n",
    "\n",
    "display(chi.describe(include='all'))  # include='all'\n",
    "display(chi)"
   ]
  },
  {
   "cell_type": "code",
   "execution_count": 8,
   "metadata": {},
   "outputs": [],
   "source": [
    "# %%time\n",
    "\n",
    "# sb.pairplot(chi) \n"
   ]
  },
  {
   "cell_type": "code",
   "execution_count": 9,
   "metadata": {},
   "outputs": [
    {
     "name": "stdout",
     "output_type": "stream",
     "text": [
      "Wall time: 751 ms\n"
     ]
    },
    {
     "data": {
      "text/plain": [
       "<matplotlib.axes._subplots.AxesSubplot at 0x1d9806d40a0>"
      ]
     },
     "execution_count": 9,
     "metadata": {},
     "output_type": "execute_result"
    },
    {
     "data": {
      "image/png": "[encoded data removed]",
      "text/plain": [
       "<Figure size 432x288 with 1 Axes>"
      ]
     },
     "metadata": {
      "needs_background": "light"
     },
     "output_type": "display_data"
    }
   ],
   "source": [
    "%%time\n",
    "\n",
    "chi.loc[:,['Beat']].plot(kind='hist')\n"
   ]
  },
  {
   "cell_type": "code",
   "execution_count": 10,
   "metadata": {},
   "outputs": [
    {
     "name": "stdout",
     "output_type": "stream",
     "text": [
      "Wall time: 352 ms\n"
     ]
    },
    {
     "data": {
      "text/plain": [
       "<matplotlib.axes._subplots.AxesSubplot at 0x1d9deb4af70>"
      ]
     },
     "execution_count": 10,
     "metadata": {},
     "output_type": "execute_result"
    },
    {
     "data": {
      "image/png": "[encoded data removed]",
      "text/plain": [
       "<Figure size 432x288 with 1 Axes>"
      ]
     },
     "metadata": {
      "needs_background": "light"
     },
     "output_type": "display_data"
    }
   ],
   "source": [
    "%%time\n",
    "\n",
    "chi.boxplot(column='Beat')\n"
   ]
  },
  {
   "cell_type": "code",
   "execution_count": 11,
   "metadata": {},
   "outputs": [
    {
     "name": "stdout",
     "output_type": "stream",
     "text": [
      "Wall time: 339 ms\n"
     ]
    },
    {
     "data": {
      "text/plain": [
       "Primary Type\n",
       "1    0.297819\n",
       "2    0.260754\n",
       "Name: Arrest, dtype: float64"
      ]
     },
     "execution_count": 11,
     "metadata": {},
     "output_type": "execute_result"
    }
   ],
   "source": [
    "%%time\n",
    "\n",
    "chi.groupby('Primary Type')['Arrest'].mean()\n",
    "\n",
    "# misdemeanors slightly outperform felonies in regards to avoiding arrest (0=F, 1=T for arrest made)\n"
   ]
  },
  {
   "cell_type": "code",
   "execution_count": null,
   "metadata": {},
   "outputs": [],
   "source": []
  },
  {
   "cell_type": "code",
   "execution_count": null,
   "metadata": {},
   "outputs": [],
   "source": []
  },
  {
   "cell_type": "code",
   "execution_count": 12,
   "metadata": {},
   "outputs": [
    {
     "name": "stdout",
     "output_type": "stream",
     "text": [
      "Wall time: 1.28 s\n"
     ]
    }
   ],
   "source": [
    "%%time\n",
    "\n",
    "from sklearn.model_selection import train_test_split\n",
    "        \n",
    "X = chi.iloc[:, [0,2]]\n",
    "y = chi.iloc[:, [1]]\n",
    "\n",
    "X_train , X_test , y_train, y_test = train_test_split(X, y, test_size=0.30, random_state=123)#, stratify=y)\n"
   ]
  },
  {
   "cell_type": "code",
   "execution_count": 13,
   "metadata": {},
   "outputs": [
    {
     "name": "stdout",
     "output_type": "stream",
     "text": [
      "Wall time: 171 ms\n"
     ]
    }
   ],
   "source": [
    "%%time\n",
    "\n",
    "from sklearn.linear_model import LogisticRegression\n",
    "from sklearn.ensemble import RandomForestClassifier\n",
    "from sklearn.tree import DecisionTreeClassifier\n",
    "from sklearn.linear_model import RidgeClassifier\n",
    "from sklearn.ensemble import BaggingClassifier\n",
    "from sklearn.naive_bayes import GaussianNB\n",
    "from sklearn import model_selection\n",
    "\n",
    "from sklearn.model_selection import cross_val_score\n",
    "# from sklearn.metrics import confusion_matrix\n"
   ]
  },
  {
   "cell_type": "code",
   "execution_count": 14,
   "metadata": {},
   "outputs": [
    {
     "name": "stdout",
     "output_type": "stream",
     "text": [
      "DT Scores:  [0.72459681 0.72405319 0.72453724 0.72421702 0.7245422  0.72397127\n",
      " 0.72413759 0.72408229 0.72421882 0.72423371] \n",
      "\n",
      "Wall time: 1min 1s\n"
     ]
    }
   ],
   "source": [
    "%%time\n",
    "\n",
    "dt = DecisionTreeClassifier(random_state=0, max_depth=5)\n",
    "\n",
    "scores = cross_val_score(dt, X_train, y_train.values.ravel(), cv=10) # cv=kfold\n",
    "print('DT Scores: ', scores, \"\\n\")"
   ]
  },
  {
   "cell_type": "code",
   "execution_count": 15,
   "metadata": {},
   "outputs": [
    {
     "name": "stdout",
     "output_type": "stream",
     "text": [
      "RF Scores:  [0.72400738 0.72389355] \n",
      "\n",
      "Wall time: 6min 41s\n"
     ]
    }
   ],
   "source": [
    "%%time\n",
    "\n",
    "rf = RandomForestClassifier(max_depth=4, random_state=0)\n",
    "\n",
    "scores = cross_val_score(rf, X_train, y_train.values.ravel(), cv=2) \n",
    "print('RF Scores: ', scores, \"\\n\")\n"
   ]
  },
  {
   "cell_type": "code",
   "execution_count": 16,
   "metadata": {},
   "outputs": [
    {
     "name": "stdout",
     "output_type": "stream",
     "text": [
      "BG Scores:  [0.73214218 0.73177857 0.7319007 ] \n",
      "\n",
      "Wall time: 3min 10s\n"
     ]
    }
   ],
   "source": [
    "%%time\n",
    "\n",
    "bg = BaggingClassifier()\n",
    "\n",
    "scores = cross_val_score(bg, X_train, y_train.values.ravel(), cv=3)\n",
    "print('BG Scores: ', scores, \"\\n\")\n"
   ]
  },
  {
   "cell_type": "code",
   "execution_count": 17,
   "metadata": {},
   "outputs": [
    {
     "name": "stdout",
     "output_type": "stream",
     "text": [
      "LGR Scores:  [0.71972407 0.71972407 0.71972407 0.71972407 0.71972407 0.71972407\n",
      " 0.71972159 0.71972337 0.71972337 0.71972337] \n",
      "\n",
      "Wall time: 2min 32s\n"
     ]
    }
   ],
   "source": [
    "%%time\n",
    "\n",
    "lgr = LogisticRegression(max_iter=1000)\n",
    "\n",
    "scores = cross_val_score(lgr, X_train, y_train.values.ravel(), cv=10)\n",
    "print('LGR Scores: ', scores, \"\\n\")\n"
   ]
  },
  {
   "cell_type": "code",
   "execution_count": 18,
   "metadata": {},
   "outputs": [
    {
     "name": "stdout",
     "output_type": "stream",
     "text": [
      "RDG Scores:  [0.71972407 0.71972407 0.71972407 0.71972407 0.71972407 0.71972407\n",
      " 0.71972159 0.71972337 0.71972337 0.71972337] \n",
      "\n",
      "Wall time: 17.6 s\n"
     ]
    }
   ],
   "source": [
    "%%time\n",
    "\n",
    "rdg = RidgeClassifier()\n",
    "\n",
    "scores = cross_val_score(rdg, X_train, y_train.values.ravel(), cv=10)\n",
    "print('RDG Scores: ', scores, \"\\n\")\n"
   ]
  },
  {
   "cell_type": "code",
   "execution_count": 19,
   "metadata": {},
   "outputs": [
    {
     "name": "stdout",
     "output_type": "stream",
     "text": [
      "NB Scores:  [0.71972407 0.71972407 0.71972407 0.71972407 0.71972407 0.71972407\n",
      " 0.71972159 0.71972337 0.71972337 0.71972337] \n",
      "\n",
      "Wall time: 12.8 s\n"
     ]
    }
   ],
   "source": [
    "%%time\n",
    "\n",
    "nb = GaussianNB()\n",
    "\n",
    "scores = cross_val_score(nb, X_train, y_train.values.ravel(), cv=10)\n",
    "print('NB Scores: ', scores, \"\\n\")"
   ]
  },
  {
   "cell_type": "code",
   "execution_count": null,
   "metadata": {},
   "outputs": [],
   "source": []
  },
  {
   "cell_type": "code",
   "execution_count": null,
   "metadata": {},
   "outputs": [],
   "source": []
  },
  {
   "cell_type": "code",
   "execution_count": null,
   "metadata": {},
   "outputs": [],
   "source": []
  },
  {
   "cell_type": "code",
   "execution_count": 20,
   "metadata": {},
   "outputs": [
    {
     "name": "stdout",
     "output_type": "stream",
     "text": [
      "Wall time: 58.3 s\n"
     ]
    }
   ],
   "source": [
    "%%time\n",
    "\n",
    "X_train , X_test , y_train, y_test = train_test_split(X, y, test_size=0.30, random_state=123,\n",
    "                                                      stratify=y) # <============         \n"
   ]
  },
  {
   "cell_type": "code",
   "execution_count": 21,
   "metadata": {},
   "outputs": [
    {
     "name": "stdout",
     "output_type": "stream",
     "text": [
      "NB Scores:  [0.71951059 0.71951059 0.71951059 0.71951059 0.71951059 0.71951059\n",
      " 0.71951059 0.71950989 0.71950989 0.71950989] \n",
      "\n",
      "Wall time: 13.1 s\n"
     ]
    }
   ],
   "source": [
    "%%time\n",
    "\n",
    "nb = GaussianNB()\n",
    "\n",
    "scores = cross_val_score(nb, X_train, y_train.values.ravel(), cv=10)\n",
    "print('NB Scores: ', scores, \"\\n\")"
   ]
  },
  {
   "cell_type": "code",
   "execution_count": 22,
   "metadata": {},
   "outputs": [
    {
     "name": "stdout",
     "output_type": "stream",
     "text": [
      "RDG Scores:  [0.71951059 0.71951059 0.71951059 0.71951059 0.71951059 0.71951059\n",
      " 0.71951059 0.71950989 0.71950989 0.71950989] \n",
      "\n",
      "Wall time: 18.3 s\n"
     ]
    }
   ],
   "source": [
    "%%time\n",
    "\n",
    "rdg = RidgeClassifier()\n",
    "\n",
    "scores = cross_val_score(rdg, X_train, y_train.values.ravel(), cv=10)\n",
    "print('RDG Scores: ', scores, \"\\n\")\n"
   ]
  },
  {
   "cell_type": "code",
   "execution_count": 23,
   "metadata": {},
   "outputs": [
    {
     "name": "stdout",
     "output_type": "stream",
     "text": [
      "DT Scores:  [0.7243039  0.72462412 0.72418475 0.72429894 0.72409539 0.72447022\n",
      " 0.72421702 0.72420393 0.72318122 0.72411208] \n",
      "\n",
      "Wall time: 1min 6s\n"
     ]
    }
   ],
   "source": [
    "%%time\n",
    "\n",
    "dt = DecisionTreeClassifier(random_state=0, max_depth=5)\n",
    "\n",
    "scores = cross_val_score(dt, X_train, y_train.values.ravel(), cv=10)\n",
    "print('DT Scores: ', scores, \"\\n\")"
   ]
  },
  {
   "cell_type": "code",
   "execution_count": null,
   "metadata": {},
   "outputs": [],
   "source": []
  },
  {
   "cell_type": "code",
   "execution_count": null,
   "metadata": {},
   "outputs": [],
   "source": []
  },
  {
   "cell_type": "code",
   "execution_count": 24,
   "metadata": {},
   "outputs": [
    {
     "name": "stdout",
     "output_type": "stream",
     "text": [
      "<class 'pandas.core.frame.DataFrame'>\n",
      "RangeIndex: 5755039 entries, 0 to 5755038\n",
      "Data columns (total 9 columns):\n",
      " #   Column                Dtype \n",
      "---  ------                ----- \n",
      " 0   Date                  object\n",
      " 1   Primary Type          object\n",
      " 2   Location Description  object\n",
      " 3   Arrest                bool  \n",
      " 4   Beat                  int64 \n",
      " 5   District              int64 \n",
      " 6   Ward                  int64 \n",
      " 7   Community Area        int64 \n",
      " 8   Year                  int64 \n",
      "dtypes: bool(1), int64(5), object(3)\n",
      "memory usage: 356.7+ MB\n"
     ]
    },
    {
     "data": {
      "text/plain": [
       "None"
      ]
     },
     "metadata": {},
     "output_type": "display_data"
    },
    {
     "name": "stdout",
     "output_type": "stream",
     "text": [
      "<class 'pandas.core.frame.DataFrame'>\n",
      "RangeIndex: 5755039 entries, 0 to 5755038\n",
      "Data columns (total 3 columns):\n",
      " #   Column        Dtype \n",
      "---  ------        ----- \n",
      " 0   Primary Type  object\n",
      " 1   Arrest        bool  \n",
      " 2   Beat          int64 \n",
      "dtypes: bool(1), int64(1), object(1)\n",
      "memory usage: 93.3+ MB\n"
     ]
    },
    {
     "data": {
      "text/plain": [
       "None"
      ]
     },
     "metadata": {},
     "output_type": "display_data"
    },
    {
     "data": {
      "text/plain": [
       "Primary Type     35\n",
       "Arrest            2\n",
       "Beat            303\n",
       "dtype: int64"
      ]
     },
     "metadata": {},
     "output_type": "display_data"
    },
    {
     "data": {
      "text/html": [
       "<div>\n",
       "<style scoped>\n",
       "    .dataframe tbody tr th:only-of-type {\n",
       "        vertical-align: middle;\n",
       "    }\n",
       "\n",
       "    .dataframe tbody tr th {\n",
       "        vertical-align: top;\n",
       "    }\n",
       "\n",
       "    .dataframe thead th {\n",
       "        text-align: right;\n",
       "    }\n",
       "</style>\n",
       "<table border=\"1\" class=\"dataframe\">\n",
       "  <thead>\n",
       "    <tr style=\"text-align: right;\">\n",
       "      <th></th>\n",
       "      <th>Primary Type</th>\n",
       "      <th>Arrest</th>\n",
       "      <th>Beat</th>\n",
       "    </tr>\n",
       "  </thead>\n",
       "  <tbody>\n",
       "    <tr>\n",
       "      <th>0</th>\n",
       "      <td>MOTOR VEHICLE THEFT</td>\n",
       "      <td>False</td>\n",
       "      <td>723</td>\n",
       "    </tr>\n",
       "    <tr>\n",
       "      <th>1</th>\n",
       "      <td>DECEPTIVE PRACTICE</td>\n",
       "      <td>False</td>\n",
       "      <td>932</td>\n",
       "    </tr>\n",
       "    <tr>\n",
       "      <th>2</th>\n",
       "      <td>MOTOR VEHICLE THEFT</td>\n",
       "      <td>False</td>\n",
       "      <td>821</td>\n",
       "    </tr>\n",
       "    <tr>\n",
       "      <th>3</th>\n",
       "      <td>DECEPTIVE PRACTICE</td>\n",
       "      <td>True</td>\n",
       "      <td>1623</td>\n",
       "    </tr>\n",
       "    <tr>\n",
       "      <th>4</th>\n",
       "      <td>BURGLARY</td>\n",
       "      <td>True</td>\n",
       "      <td>1925</td>\n",
       "    </tr>\n",
       "    <tr>\n",
       "      <th>...</th>\n",
       "      <td>...</td>\n",
       "      <td>...</td>\n",
       "      <td>...</td>\n",
       "    </tr>\n",
       "    <tr>\n",
       "      <th>5755034</th>\n",
       "      <td>DECEPTIVE PRACTICE</td>\n",
       "      <td>False</td>\n",
       "      <td>1111</td>\n",
       "    </tr>\n",
       "    <tr>\n",
       "      <th>5755035</th>\n",
       "      <td>THEFT</td>\n",
       "      <td>False</td>\n",
       "      <td>2221</td>\n",
       "    </tr>\n",
       "    <tr>\n",
       "      <th>5755036</th>\n",
       "      <td>ROBBERY</td>\n",
       "      <td>False</td>\n",
       "      <td>1211</td>\n",
       "    </tr>\n",
       "    <tr>\n",
       "      <th>5755037</th>\n",
       "      <td>OTHER OFFENSE</td>\n",
       "      <td>True</td>\n",
       "      <td>131</td>\n",
       "    </tr>\n",
       "    <tr>\n",
       "      <th>5755038</th>\n",
       "      <td>CRIMINAL DAMAGE</td>\n",
       "      <td>False</td>\n",
       "      <td>524</td>\n",
       "    </tr>\n",
       "  </tbody>\n",
       "</table>\n",
       "<p>5755039 rows × 3 columns</p>\n",
       "</div>"
      ],
      "text/plain": [
       "                Primary Type  Arrest  Beat\n",
       "0        MOTOR VEHICLE THEFT   False   723\n",
       "1         DECEPTIVE PRACTICE   False   932\n",
       "2        MOTOR VEHICLE THEFT   False   821\n",
       "3         DECEPTIVE PRACTICE    True  1623\n",
       "4                   BURGLARY    True  1925\n",
       "...                      ...     ...   ...\n",
       "5755034   DECEPTIVE PRACTICE   False  1111\n",
       "5755035                THEFT   False  2221\n",
       "5755036              ROBBERY   False  1211\n",
       "5755037        OTHER OFFENSE    True   131\n",
       "5755038      CRIMINAL DAMAGE   False   524\n",
       "\n",
       "[5755039 rows x 3 columns]"
      ]
     },
     "metadata": {},
     "output_type": "display_data"
    },
    {
     "name": "stdout",
     "output_type": "stream",
     "text": [
      "Wall time: 12.4 s\n"
     ]
    }
   ],
   "source": [
    "%%time\n",
    "\n",
    "chi2 = pd.read_csv(\"chi.csv\")\n",
    "\n",
    "display(chi2.info())\n",
    "\n",
    "chi2.pop('Date')\n",
    "chi2.pop('Location Description')\n",
    "chi2.pop('District')\n",
    "chi2.pop('Ward')\n",
    "chi2.pop('Community Area')\n",
    "chi2.pop('Year')\n",
    "\n",
    "display(chi2.info())\n",
    "display(chi2.nunique())\n",
    "display(chi2)\n"
   ]
  },
  {
   "cell_type": "code",
   "execution_count": 25,
   "metadata": {},
   "outputs": [
    {
     "name": "stdout",
     "output_type": "stream",
     "text": [
      "<class 'pandas.core.frame.DataFrame'>\n",
      "RangeIndex: 5755039 entries, 0 to 5755038\n",
      "Data columns (total 3 columns):\n",
      " #   Column        Dtype  \n",
      "---  ------        -----  \n",
      " 0   Primary Type  object \n",
      " 1   Arrest        int32  \n",
      " 2   Beat          float64\n",
      "dtypes: float64(1), int32(1), object(1)\n",
      "memory usage: 109.8+ MB\n"
     ]
    },
    {
     "data": {
      "text/plain": [
       "None"
      ]
     },
     "metadata": {},
     "output_type": "display_data"
    },
    {
     "data": {
      "text/plain": [
       "Primary Type     35\n",
       "Arrest            2\n",
       "Beat            303\n",
       "dtype: int64"
      ]
     },
     "metadata": {},
     "output_type": "display_data"
    },
    {
     "data": {
      "text/html": [
       "<div>\n",
       "<style scoped>\n",
       "    .dataframe tbody tr th:only-of-type {\n",
       "        vertical-align: middle;\n",
       "    }\n",
       "\n",
       "    .dataframe tbody tr th {\n",
       "        vertical-align: top;\n",
       "    }\n",
       "\n",
       "    .dataframe thead th {\n",
       "        text-align: right;\n",
       "    }\n",
       "</style>\n",
       "<table border=\"1\" class=\"dataframe\">\n",
       "  <thead>\n",
       "    <tr style=\"text-align: right;\">\n",
       "      <th></th>\n",
       "      <th>Primary Type</th>\n",
       "      <th>Arrest</th>\n",
       "      <th>Beat</th>\n",
       "    </tr>\n",
       "  </thead>\n",
       "  <tbody>\n",
       "    <tr>\n",
       "      <th>0</th>\n",
       "      <td>MOTOR VEHICLE THEFT</td>\n",
       "      <td>0</td>\n",
       "      <td>-0.673660</td>\n",
       "    </tr>\n",
       "    <tr>\n",
       "      <th>1</th>\n",
       "      <td>DECEPTIVE PRACTICE</td>\n",
       "      <td>0</td>\n",
       "      <td>-0.376757</td>\n",
       "    </tr>\n",
       "    <tr>\n",
       "      <th>2</th>\n",
       "      <td>MOTOR VEHICLE THEFT</td>\n",
       "      <td>0</td>\n",
       "      <td>-0.534443</td>\n",
       "    </tr>\n",
       "    <tr>\n",
       "      <th>3</th>\n",
       "      <td>DECEPTIVE PRACTICE</td>\n",
       "      <td>1</td>\n",
       "      <td>0.604870</td>\n",
       "    </tr>\n",
       "    <tr>\n",
       "      <th>4</th>\n",
       "      <td>BURGLARY</td>\n",
       "      <td>1</td>\n",
       "      <td>1.033888</td>\n",
       "    </tr>\n",
       "    <tr>\n",
       "      <th>...</th>\n",
       "      <td>...</td>\n",
       "      <td>...</td>\n",
       "      <td>...</td>\n",
       "    </tr>\n",
       "    <tr>\n",
       "      <th>5755034</th>\n",
       "      <td>DECEPTIVE PRACTICE</td>\n",
       "      <td>0</td>\n",
       "      <td>-0.122472</td>\n",
       "    </tr>\n",
       "    <tr>\n",
       "      <th>5755035</th>\n",
       "      <td>THEFT</td>\n",
       "      <td>0</td>\n",
       "      <td>1.454383</td>\n",
       "    </tr>\n",
       "    <tr>\n",
       "      <th>5755036</th>\n",
       "      <td>ROBBERY</td>\n",
       "      <td>0</td>\n",
       "      <td>0.019587</td>\n",
       "    </tr>\n",
       "    <tr>\n",
       "      <th>5755037</th>\n",
       "      <td>OTHER OFFENSE</td>\n",
       "      <td>1</td>\n",
       "      <td>-1.514649</td>\n",
       "    </tr>\n",
       "    <tr>\n",
       "      <th>5755038</th>\n",
       "      <td>CRIMINAL DAMAGE</td>\n",
       "      <td>0</td>\n",
       "      <td>-0.956358</td>\n",
       "    </tr>\n",
       "  </tbody>\n",
       "</table>\n",
       "<p>5755039 rows × 3 columns</p>\n",
       "</div>"
      ],
      "text/plain": [
       "                Primary Type  Arrest      Beat\n",
       "0        MOTOR VEHICLE THEFT       0 -0.673660\n",
       "1         DECEPTIVE PRACTICE       0 -0.376757\n",
       "2        MOTOR VEHICLE THEFT       0 -0.534443\n",
       "3         DECEPTIVE PRACTICE       1  0.604870\n",
       "4                   BURGLARY       1  1.033888\n",
       "...                      ...     ...       ...\n",
       "5755034   DECEPTIVE PRACTICE       0 -0.122472\n",
       "5755035                THEFT       0  1.454383\n",
       "5755036              ROBBERY       0  0.019587\n",
       "5755037        OTHER OFFENSE       1 -1.514649\n",
       "5755038      CRIMINAL DAMAGE       0 -0.956358\n",
       "\n",
       "[5755039 rows x 3 columns]"
      ]
     },
     "metadata": {},
     "output_type": "display_data"
    },
    {
     "name": "stdout",
     "output_type": "stream",
     "text": [
      "Wall time: 4.49 s\n"
     ]
    }
   ],
   "source": [
    "%%time\n",
    "\n",
    "from sklearn.preprocessing import StandardScaler\n",
    "scaler  = StandardScaler()\n",
    "chi2[['Beat']] = scaler.fit_transform(chi2[['Beat']])\n",
    "\n",
    "chi2['Arrest'] = chi2['Arrest'].astype(int)\n",
    "\n",
    "display(chi2.info())\n",
    "display(chi2.nunique())\n",
    "display(chi2)\n",
    "# X_train = scaler.fit_transform(X_train)\n",
    "# X_test = scaler.transform(X_test)\n"
   ]
  },
  {
   "cell_type": "code",
   "execution_count": 26,
   "metadata": {},
   "outputs": [
    {
     "name": "stdout",
     "output_type": "stream",
     "text": [
      "Wall time: 789 ms\n"
     ]
    },
    {
     "data": {
      "text/plain": [
       "Primary Type\n",
       "ARSON                                0.105640\n",
       "ASSAULT                              0.234022\n",
       "BATTERY                              0.226699\n",
       "BURGLARY                             0.055886\n",
       "CONCEALED CARRY LICENSE VIOLATION    0.966667\n",
       "CRIM SEXUAL ASSAULT                  0.136124\n",
       "CRIMINAL DAMAGE                      0.062685\n",
       "CRIMINAL SEXUAL ASSAULT              0.064276\n",
       "CRIMINAL TRESPASS                    0.724931\n",
       "DECEPTIVE PRACTICE                   0.141551\n",
       "GAMBLING                             0.992500\n",
       "HOMICIDE                             0.430506\n",
       "HUMAN TRAFFICKING                    0.093750\n",
       "INTERFERENCE WITH PUBLIC OFFICER     0.925858\n",
       "INTIMIDATION                         0.160803\n",
       "KIDNAPPING                           0.105942\n",
       "LIQUOR LAW VIOLATION                 0.990114\n",
       "MOTOR VEHICLE THEFT                  0.084038\n",
       "NARCOTICS                            0.993846\n",
       "NON - CRIMINAL                       0.157895\n",
       "NON-CRIMINAL                         0.058480\n",
       "NON-CRIMINAL (SUBJECT SPECIFIED)     1.000000\n",
       "OBSCENITY                            0.808099\n",
       "OFFENSE INVOLVING CHILDREN           0.186956\n",
       "OTHER NARCOTIC VIOLATION             0.682171\n",
       "OTHER OFFENSE                        0.200762\n",
       "PROSTITUTION                         0.995681\n",
       "PUBLIC INDECENCY                     0.994220\n",
       "PUBLIC PEACE VIOLATION               0.678043\n",
       "RITUALISM                            0.090909\n",
       "ROBBERY                              0.094974\n",
       "SEX OFFENSE                          0.291705\n",
       "STALKING                             0.153145\n",
       "THEFT                                0.114640\n",
       "WEAPONS VIOLATION                    0.765973\n",
       "Name: Arrest, dtype: float64"
      ]
     },
     "execution_count": 26,
     "metadata": {},
     "output_type": "execute_result"
    }
   ],
   "source": [
    "%%time\n",
    "\n",
    "chi2.groupby('Primary Type')['Arrest'].mean()\n"
   ]
  },
  {
   "cell_type": "code",
   "execution_count": 27,
   "metadata": {},
   "outputs": [
    {
     "name": "stdout",
     "output_type": "stream",
     "text": [
      "<class 'pandas.core.frame.DataFrame'>\n",
      "RangeIndex: 5755039 entries, 0 to 5755038\n",
      "Data columns (total 3 columns):\n",
      " #   Column        Dtype  \n",
      "---  ------        -----  \n",
      " 0   Primary Type  int64  \n",
      " 1   Arrest        int32  \n",
      " 2   Beat          float64\n",
      "dtypes: float64(1), int32(1), int64(1)\n",
      "memory usage: 109.8 MB\n"
     ]
    },
    {
     "data": {
      "text/plain": [
       "None"
      ]
     },
     "metadata": {},
     "output_type": "display_data"
    },
    {
     "data": {
      "text/plain": [
       "array([1, 2], dtype=int64)"
      ]
     },
     "metadata": {},
     "output_type": "display_data"
    },
    {
     "data": {
      "text/plain": [
       "Primary Type      2\n",
       "Arrest            2\n",
       "Beat            303\n",
       "dtype: int64"
      ]
     },
     "metadata": {},
     "output_type": "display_data"
    },
    {
     "name": "stdout",
     "output_type": "stream",
     "text": [
      "Wall time: 8.18 s\n"
     ]
    },
    {
     "data": {
      "text/html": [
       "<div>\n",
       "<style scoped>\n",
       "    .dataframe tbody tr th:only-of-type {\n",
       "        vertical-align: middle;\n",
       "    }\n",
       "\n",
       "    .dataframe tbody tr th {\n",
       "        vertical-align: top;\n",
       "    }\n",
       "\n",
       "    .dataframe thead th {\n",
       "        text-align: right;\n",
       "    }\n",
       "</style>\n",
       "<table border=\"1\" class=\"dataframe\">\n",
       "  <thead>\n",
       "    <tr style=\"text-align: right;\">\n",
       "      <th></th>\n",
       "      <th>Primary Type</th>\n",
       "      <th>Arrest</th>\n",
       "      <th>Beat</th>\n",
       "    </tr>\n",
       "  </thead>\n",
       "  <tbody>\n",
       "    <tr>\n",
       "      <th>0</th>\n",
       "      <td>1</td>\n",
       "      <td>0</td>\n",
       "      <td>-0.673660</td>\n",
       "    </tr>\n",
       "    <tr>\n",
       "      <th>1</th>\n",
       "      <td>2</td>\n",
       "      <td>0</td>\n",
       "      <td>-0.376757</td>\n",
       "    </tr>\n",
       "    <tr>\n",
       "      <th>2</th>\n",
       "      <td>1</td>\n",
       "      <td>0</td>\n",
       "      <td>-0.534443</td>\n",
       "    </tr>\n",
       "    <tr>\n",
       "      <th>3</th>\n",
       "      <td>2</td>\n",
       "      <td>1</td>\n",
       "      <td>0.604870</td>\n",
       "    </tr>\n",
       "    <tr>\n",
       "      <th>4</th>\n",
       "      <td>1</td>\n",
       "      <td>1</td>\n",
       "      <td>1.033888</td>\n",
       "    </tr>\n",
       "    <tr>\n",
       "      <th>...</th>\n",
       "      <td>...</td>\n",
       "      <td>...</td>\n",
       "      <td>...</td>\n",
       "    </tr>\n",
       "    <tr>\n",
       "      <th>5755034</th>\n",
       "      <td>2</td>\n",
       "      <td>0</td>\n",
       "      <td>-0.122472</td>\n",
       "    </tr>\n",
       "    <tr>\n",
       "      <th>5755035</th>\n",
       "      <td>1</td>\n",
       "      <td>0</td>\n",
       "      <td>1.454383</td>\n",
       "    </tr>\n",
       "    <tr>\n",
       "      <th>5755036</th>\n",
       "      <td>1</td>\n",
       "      <td>0</td>\n",
       "      <td>0.019587</td>\n",
       "    </tr>\n",
       "    <tr>\n",
       "      <th>5755037</th>\n",
       "      <td>2</td>\n",
       "      <td>1</td>\n",
       "      <td>-1.514649</td>\n",
       "    </tr>\n",
       "    <tr>\n",
       "      <th>5755038</th>\n",
       "      <td>2</td>\n",
       "      <td>0</td>\n",
       "      <td>-0.956358</td>\n",
       "    </tr>\n",
       "  </tbody>\n",
       "</table>\n",
       "<p>5755039 rows × 3 columns</p>\n",
       "</div>"
      ],
      "text/plain": [
       "         Primary Type  Arrest      Beat\n",
       "0                   1       0 -0.673660\n",
       "1                   2       0 -0.376757\n",
       "2                   1       0 -0.534443\n",
       "3                   2       1  0.604870\n",
       "4                   1       1  1.033888\n",
       "...               ...     ...       ...\n",
       "5755034             2       0 -0.122472\n",
       "5755035             1       0  1.454383\n",
       "5755036             1       0  0.019587\n",
       "5755037             2       1 -1.514649\n",
       "5755038             2       0 -0.956358\n",
       "\n",
       "[5755039 rows x 3 columns]"
      ]
     },
     "execution_count": 27,
     "metadata": {},
     "output_type": "execute_result"
    }
   ],
   "source": [
    "%%time\n",
    "\n",
    "chi2['Primary Type'] = chi2['Primary Type'].replace(['MOTOR VEHICLE THEFT','BURGLARY','HOMICIDE',\n",
    " 'SEX OFFENSE','OFFENSE INVOLVING CHILDREN','ROBBERY','THEFT','CRIM SEXUAL ASSAULT','INTIMIDATION',\n",
    " 'ARSON','CRIMINAL SEXUAL ASSAULT','NARCOTICS','KIDNAPPING','STALKING','RITUALISM',\n",
    " 'OTHER NARCOTIC VIOLATION','HUMAN TRAFFICKING'], 1)\n",
    "\n",
    "chi2['Primary Type'] = chi2['Primary Type'].replace(['DECEPTIVE PRACTICE','CRIMINAL TRESPASS','BATTERY',\n",
    " 'OTHER OFFENSE','CRIMINAL DAMAGE','ASSAULT','WEAPONS VIOLATION','PUBLIC PEACE VIOLATION',\n",
    " 'PROSTITUTION','LIQUOR LAW VIOLATION','GAMBLING','INTERFERENCE WITH PUBLIC OFFICER','OBSCENITY',\n",
    " 'PUBLIC INDECENCY','NON-CRIMINAL','NON-CRIMINAL (SUBJECT SPECIFIED)',\n",
    " 'NON - CRIMINAL','CONCEALED CARRY LICENSE VIOLATION'], 2)\n",
    "\n",
    "\n",
    "display(chi2.info())\n",
    "display(chi2['Primary Type'].unique())\n",
    "display(chi2.nunique())\n",
    "chi2"
   ]
  },
  {
   "cell_type": "code",
   "execution_count": 28,
   "metadata": {},
   "outputs": [
    {
     "name": "stdout",
     "output_type": "stream",
     "text": [
      "Wall time: 1min 3s\n"
     ]
    }
   ],
   "source": [
    "%%time\n",
    "\n",
    "X = chi2.iloc[:, [0,2]]\n",
    "y = chi2.iloc[:, [1]]\n",
    "\n",
    "X_train , X_test , y_train, y_test = train_test_split(X, y, test_size=0.30, random_state=123,\n",
    "                                                      stratify=y)"
   ]
  },
  {
   "cell_type": "code",
   "execution_count": 29,
   "metadata": {},
   "outputs": [
    {
     "name": "stdout",
     "output_type": "stream",
     "text": [
      "NB Scores:  [0.71951059 0.71951059 0.71951059 0.71951059 0.71951059 0.71951059\n",
      " 0.71951059 0.71950989 0.71950989 0.71950989] \n",
      "\n",
      "Wall time: 14.4 s\n"
     ]
    }
   ],
   "source": [
    "%%time\n",
    "\n",
    "nb = GaussianNB()\n",
    "\n",
    "scores = cross_val_score(nb, X_train, y_train.values.ravel(), cv=10)\n",
    "print('NB Scores: ', scores, \"\\n\")"
   ]
  },
  {
   "cell_type": "code",
   "execution_count": 30,
   "metadata": {},
   "outputs": [
    {
     "name": "stdout",
     "output_type": "stream",
     "text": [
      "RDG Scores:  [0.71951059 0.71951059 0.71951059 0.71951059 0.71951059 0.71951059\n",
      " 0.71951059 0.71950989 0.71950989 0.71950989] \n",
      "\n",
      "Wall time: 17.9 s\n"
     ]
    }
   ],
   "source": [
    "%%time\n",
    "\n",
    "rdg = RidgeClassifier()\n",
    "\n",
    "scores = cross_val_score(rdg, X_train, y_train.values.ravel(), cv=10)\n",
    "print('RDG Scores: ', scores, \"\\n\")"
   ]
  },
  {
   "cell_type": "code",
   "execution_count": 31,
   "metadata": {},
   "outputs": [
    {
     "name": "stdout",
     "output_type": "stream",
     "text": [
      "DT Scores:  [0.7243039  0.72462412 0.72418475 0.72429894 0.72409539 0.72447022\n",
      " 0.72421702 0.72420393 0.72318122 0.72411208] \n",
      "\n",
      "Wall time: 1min 3s\n"
     ]
    }
   ],
   "source": [
    "%%time\n",
    "\n",
    "dt = DecisionTreeClassifier(random_state=0, max_depth=5)\n",
    "\n",
    "scores = cross_val_score(dt, X_train, y_train.values.ravel(), cv=10)\n",
    "print('DT Scores: ', scores, \"\\n\")"
   ]
  },
  {
   "cell_type": "code",
   "execution_count": null,
   "metadata": {},
   "outputs": [],
   "source": []
  },
  {
   "cell_type": "code",
   "execution_count": null,
   "metadata": {},
   "outputs": [],
   "source": []
  },
  {
   "cell_type": "code",
   "execution_count": 104,
   "metadata": {},
   "outputs": [
    {
     "name": "stdout",
     "output_type": "stream",
     "text": [
      "<class 'pandas.core.frame.DataFrame'>\n",
      "RangeIndex: 5755039 entries, 0 to 5755038\n",
      "Data columns (total 9 columns):\n",
      " #   Column                Dtype \n",
      "---  ------                ----- \n",
      " 0   Date                  object\n",
      " 1   Primary Type          object\n",
      " 2   Location Description  object\n",
      " 3   Arrest                bool  \n",
      " 4   Beat                  int64 \n",
      " 5   District              int64 \n",
      " 6   Ward                  int64 \n",
      " 7   Community Area        int64 \n",
      " 8   Year                  int64 \n",
      "dtypes: bool(1), int64(5), object(3)\n",
      "memory usage: 356.7+ MB\n"
     ]
    },
    {
     "data": {
      "text/plain": [
       "None"
      ]
     },
     "metadata": {},
     "output_type": "display_data"
    },
    {
     "name": "stdout",
     "output_type": "stream",
     "text": [
      "<class 'pandas.core.frame.DataFrame'>\n",
      "RangeIndex: 5755039 entries, 0 to 5755038\n",
      "Data columns (total 3 columns):\n",
      " #   Column        Dtype \n",
      "---  ------        ----- \n",
      " 0   Primary Type  object\n",
      " 1   Arrest        bool  \n",
      " 2   Beat          int64 \n",
      "dtypes: bool(1), int64(1), object(1)\n",
      "memory usage: 93.3+ MB\n"
     ]
    },
    {
     "data": {
      "text/plain": [
       "None"
      ]
     },
     "metadata": {},
     "output_type": "display_data"
    },
    {
     "data": {
      "text/plain": [
       "Primary Type     35\n",
       "Arrest            2\n",
       "Beat            303\n",
       "dtype: int64"
      ]
     },
     "metadata": {},
     "output_type": "display_data"
    },
    {
     "data": {
      "text/html": [
       "<div>\n",
       "<style scoped>\n",
       "    .dataframe tbody tr th:only-of-type {\n",
       "        vertical-align: middle;\n",
       "    }\n",
       "\n",
       "    .dataframe tbody tr th {\n",
       "        vertical-align: top;\n",
       "    }\n",
       "\n",
       "    .dataframe thead th {\n",
       "        text-align: right;\n",
       "    }\n",
       "</style>\n",
       "<table border=\"1\" class=\"dataframe\">\n",
       "  <thead>\n",
       "    <tr style=\"text-align: right;\">\n",
       "      <th></th>\n",
       "      <th>Primary Type</th>\n",
       "      <th>Arrest</th>\n",
       "      <th>Beat</th>\n",
       "    </tr>\n",
       "  </thead>\n",
       "  <tbody>\n",
       "    <tr>\n",
       "      <th>0</th>\n",
       "      <td>MOTOR VEHICLE THEFT</td>\n",
       "      <td>False</td>\n",
       "      <td>723</td>\n",
       "    </tr>\n",
       "    <tr>\n",
       "      <th>1</th>\n",
       "      <td>DECEPTIVE PRACTICE</td>\n",
       "      <td>False</td>\n",
       "      <td>932</td>\n",
       "    </tr>\n",
       "    <tr>\n",
       "      <th>2</th>\n",
       "      <td>MOTOR VEHICLE THEFT</td>\n",
       "      <td>False</td>\n",
       "      <td>821</td>\n",
       "    </tr>\n",
       "    <tr>\n",
       "      <th>3</th>\n",
       "      <td>DECEPTIVE PRACTICE</td>\n",
       "      <td>True</td>\n",
       "      <td>1623</td>\n",
       "    </tr>\n",
       "    <tr>\n",
       "      <th>4</th>\n",
       "      <td>BURGLARY</td>\n",
       "      <td>True</td>\n",
       "      <td>1925</td>\n",
       "    </tr>\n",
       "    <tr>\n",
       "      <th>...</th>\n",
       "      <td>...</td>\n",
       "      <td>...</td>\n",
       "      <td>...</td>\n",
       "    </tr>\n",
       "    <tr>\n",
       "      <th>5755034</th>\n",
       "      <td>DECEPTIVE PRACTICE</td>\n",
       "      <td>False</td>\n",
       "      <td>1111</td>\n",
       "    </tr>\n",
       "    <tr>\n",
       "      <th>5755035</th>\n",
       "      <td>THEFT</td>\n",
       "      <td>False</td>\n",
       "      <td>2221</td>\n",
       "    </tr>\n",
       "    <tr>\n",
       "      <th>5755036</th>\n",
       "      <td>ROBBERY</td>\n",
       "      <td>False</td>\n",
       "      <td>1211</td>\n",
       "    </tr>\n",
       "    <tr>\n",
       "      <th>5755037</th>\n",
       "      <td>OTHER OFFENSE</td>\n",
       "      <td>True</td>\n",
       "      <td>131</td>\n",
       "    </tr>\n",
       "    <tr>\n",
       "      <th>5755038</th>\n",
       "      <td>CRIMINAL DAMAGE</td>\n",
       "      <td>False</td>\n",
       "      <td>524</td>\n",
       "    </tr>\n",
       "  </tbody>\n",
       "</table>\n",
       "<p>5755039 rows × 3 columns</p>\n",
       "</div>"
      ],
      "text/plain": [
       "                Primary Type  Arrest  Beat\n",
       "0        MOTOR VEHICLE THEFT   False   723\n",
       "1         DECEPTIVE PRACTICE   False   932\n",
       "2        MOTOR VEHICLE THEFT   False   821\n",
       "3         DECEPTIVE PRACTICE    True  1623\n",
       "4                   BURGLARY    True  1925\n",
       "...                      ...     ...   ...\n",
       "5755034   DECEPTIVE PRACTICE   False  1111\n",
       "5755035                THEFT   False  2221\n",
       "5755036              ROBBERY   False  1211\n",
       "5755037        OTHER OFFENSE    True   131\n",
       "5755038      CRIMINAL DAMAGE   False   524\n",
       "\n",
       "[5755039 rows x 3 columns]"
      ]
     },
     "metadata": {},
     "output_type": "display_data"
    },
    {
     "name": "stdout",
     "output_type": "stream",
     "text": [
      "Wall time: 12.5 s\n"
     ]
    }
   ],
   "source": [
    "%%time\n",
    "\n",
    "chi2 = pd.read_csv(\"chi.csv\")\n",
    "\n",
    "display(chi2.info())\n",
    "\n",
    "chi2.pop('Date')\n",
    "chi2.pop('Location Description')\n",
    "chi2.pop('District')\n",
    "chi2.pop('Ward')\n",
    "chi2.pop('Community Area')\n",
    "chi2.pop('Year')\n",
    "\n",
    "display(chi2.info())\n",
    "display(chi2.nunique())\n",
    "display(chi2)\n"
   ]
  },
  {
   "cell_type": "code",
   "execution_count": 105,
   "metadata": {},
   "outputs": [
    {
     "name": "stdout",
     "output_type": "stream",
     "text": [
      "<class 'pandas.core.frame.DataFrame'>\n",
      "RangeIndex: 5755039 entries, 0 to 5755038\n",
      "Data columns (total 3 columns):\n",
      " #   Column        Dtype  \n",
      "---  ------        -----  \n",
      " 0   Primary Type  int64  \n",
      " 1   Arrest        int32  \n",
      " 2   Beat          float64\n",
      "dtypes: float64(1), int32(1), int64(1)\n",
      "memory usage: 109.8 MB\n"
     ]
    },
    {
     "data": {
      "text/plain": [
       "None"
      ]
     },
     "metadata": {},
     "output_type": "display_data"
    },
    {
     "data": {
      "text/plain": [
       "array([12, 36,  6,  1,  8,  5, 42, 35,  7, 13,  3, 48, 37, 34, 15, 38, 10,\n",
       "       44,  2, 14, 40, 41, 47,  4, 43, 16, 11, 46, 45, 17, 50, 49,  9, 51,\n",
       "       39], dtype=int64)"
      ]
     },
     "metadata": {},
     "output_type": "display_data"
    },
    {
     "data": {
      "text/plain": [
       "Primary Type     35\n",
       "Arrest            2\n",
       "Beat            303\n",
       "dtype: int64"
      ]
     },
     "metadata": {},
     "output_type": "display_data"
    },
    {
     "data": {
      "text/html": [
       "<div>\n",
       "<style scoped>\n",
       "    .dataframe tbody tr th:only-of-type {\n",
       "        vertical-align: middle;\n",
       "    }\n",
       "\n",
       "    .dataframe tbody tr th {\n",
       "        vertical-align: top;\n",
       "    }\n",
       "\n",
       "    .dataframe thead th {\n",
       "        text-align: right;\n",
       "    }\n",
       "</style>\n",
       "<table border=\"1\" class=\"dataframe\">\n",
       "  <thead>\n",
       "    <tr style=\"text-align: right;\">\n",
       "      <th></th>\n",
       "      <th>Primary Type</th>\n",
       "      <th>Arrest</th>\n",
       "      <th>Beat</th>\n",
       "    </tr>\n",
       "  </thead>\n",
       "  <tbody>\n",
       "    <tr>\n",
       "      <th>0</th>\n",
       "      <td>12</td>\n",
       "      <td>0</td>\n",
       "      <td>-0.673660</td>\n",
       "    </tr>\n",
       "    <tr>\n",
       "      <th>1</th>\n",
       "      <td>36</td>\n",
       "      <td>0</td>\n",
       "      <td>-0.376757</td>\n",
       "    </tr>\n",
       "    <tr>\n",
       "      <th>2</th>\n",
       "      <td>12</td>\n",
       "      <td>0</td>\n",
       "      <td>-0.534443</td>\n",
       "    </tr>\n",
       "    <tr>\n",
       "      <th>3</th>\n",
       "      <td>36</td>\n",
       "      <td>1</td>\n",
       "      <td>0.604870</td>\n",
       "    </tr>\n",
       "    <tr>\n",
       "      <th>4</th>\n",
       "      <td>6</td>\n",
       "      <td>1</td>\n",
       "      <td>1.033888</td>\n",
       "    </tr>\n",
       "    <tr>\n",
       "      <th>...</th>\n",
       "      <td>...</td>\n",
       "      <td>...</td>\n",
       "      <td>...</td>\n",
       "    </tr>\n",
       "    <tr>\n",
       "      <th>5755034</th>\n",
       "      <td>36</td>\n",
       "      <td>0</td>\n",
       "      <td>-0.122472</td>\n",
       "    </tr>\n",
       "    <tr>\n",
       "      <th>5755035</th>\n",
       "      <td>13</td>\n",
       "      <td>0</td>\n",
       "      <td>1.454383</td>\n",
       "    </tr>\n",
       "    <tr>\n",
       "      <th>5755036</th>\n",
       "      <td>7</td>\n",
       "      <td>0</td>\n",
       "      <td>0.019587</td>\n",
       "    </tr>\n",
       "    <tr>\n",
       "      <th>5755037</th>\n",
       "      <td>48</td>\n",
       "      <td>1</td>\n",
       "      <td>-1.514649</td>\n",
       "    </tr>\n",
       "    <tr>\n",
       "      <th>5755038</th>\n",
       "      <td>37</td>\n",
       "      <td>0</td>\n",
       "      <td>-0.956358</td>\n",
       "    </tr>\n",
       "  </tbody>\n",
       "</table>\n",
       "<p>5755039 rows × 3 columns</p>\n",
       "</div>"
      ],
      "text/plain": [
       "         Primary Type  Arrest      Beat\n",
       "0                  12       0 -0.673660\n",
       "1                  36       0 -0.376757\n",
       "2                  12       0 -0.534443\n",
       "3                  36       1  0.604870\n",
       "4                   6       1  1.033888\n",
       "...               ...     ...       ...\n",
       "5755034            36       0 -0.122472\n",
       "5755035            13       0  1.454383\n",
       "5755036             7       0  0.019587\n",
       "5755037            48       1 -1.514649\n",
       "5755038            37       0 -0.956358\n",
       "\n",
       "[5755039 rows x 3 columns]"
      ]
     },
     "metadata": {},
     "output_type": "display_data"
    },
    {
     "name": "stdout",
     "output_type": "stream",
     "text": [
      "Wall time: 16.5 s\n"
     ]
    }
   ],
   "source": [
    "%%time\n",
    "\n",
    "chi2['Primary Type'] = chi2['Primary Type'].replace(['HOMICIDE'], 1)\n",
    "chi2['Primary Type'] = chi2['Primary Type'].replace(['CRIMINAL SEXUAL ASSAULT'], 2)\n",
    "chi2['Primary Type'] = chi2['Primary Type'].replace(['CRIM SEXUAL ASSAULT'], 3)\n",
    "chi2['Primary Type'] = chi2['Primary Type'].replace(['KIDNAPPING'], 4)\n",
    "chi2['Primary Type'] = chi2['Primary Type'].replace(['OFFENSE INVOLVING CHILDREN'], 5)\n",
    "chi2['Primary Type'] = chi2['Primary Type'].replace(['BURGLARY'], 6)\n",
    "chi2['Primary Type'] = chi2['Primary Type'].replace(['ROBBERY'], 7)\n",
    "chi2['Primary Type'] = chi2['Primary Type'].replace(['SEX OFFENSE'], 8)\n",
    "chi2['Primary Type'] = chi2['Primary Type'].replace(['HUMAN TRAFFICKING'], 9)\n",
    "chi2['Primary Type'] = chi2['Primary Type'].replace(['ARSON'], 10)\n",
    "chi2['Primary Type'] = chi2['Primary Type'].replace(['RITUALISM'], 11)\n",
    "chi2['Primary Type'] = chi2['Primary Type'].replace(['MOTOR VEHICLE THEFT'], 12)\n",
    "chi2['Primary Type'] = chi2['Primary Type'].replace(['THEFT'], 13)\n",
    "chi2['Primary Type'] = chi2['Primary Type'].replace(['NARCOTICS'], 14)\n",
    "chi2['Primary Type'] = chi2['Primary Type'].replace(['INTIMIDATION'], 15)\n",
    "chi2['Primary Type'] = chi2['Primary Type'].replace(['STALKING'], 16)\n",
    "chi2['Primary Type'] = chi2['Primary Type'].replace(['OTHER NARCOTIC VIOLATION'], 17)\n",
    "chi2['Primary Type'] = chi2['Primary Type'].replace(['ASSAULT'], 34)\n",
    "chi2['Primary Type'] = chi2['Primary Type'].replace(['BATTERY'], 35)\n",
    "chi2['Primary Type'] = chi2['Primary Type'].replace(['DECEPTIVE PRACTICE'], 36)\n",
    "chi2['Primary Type'] = chi2['Primary Type'].replace(['CRIMINAL DAMAGE'], 37)\n",
    "chi2['Primary Type'] = chi2['Primary Type'].replace(['WEAPONS VIOLATION'], 38)\n",
    "chi2['Primary Type'] = chi2['Primary Type'].replace(['CONCEALED CARRY LICENSE VIOLATION'], 39)\n",
    "chi2['Primary Type'] = chi2['Primary Type'].replace(['PROSTITUTION'], 40)\n",
    "chi2['Primary Type'] = chi2['Primary Type'].replace(['LIQUOR LAW VIOLATION'], 41)\n",
    "chi2['Primary Type'] = chi2['Primary Type'].replace(['CRIMINAL TRESPASS'], 42)\n",
    "chi2['Primary Type'] = chi2['Primary Type'].replace(['INTERFERENCE WITH PUBLIC OFFICER'], 43)\n",
    "chi2['Primary Type'] = chi2['Primary Type'].replace(['PUBLIC PEACE VIOLATION'], 44)\n",
    "chi2['Primary Type'] = chi2['Primary Type'].replace(['PUBLIC INDECENCY'], 45)\n",
    "chi2['Primary Type'] = chi2['Primary Type'].replace(['OBSCENITY'], 46)\n",
    "chi2['Primary Type'] = chi2['Primary Type'].replace(['GAMBLING'], 47)\n",
    "chi2['Primary Type'] = chi2['Primary Type'].replace(['OTHER OFFENSE'], 48)\n",
    "chi2['Primary Type'] = chi2['Primary Type'].replace(['NON-CRIMINAL (SUBJECT SPECIFIED)'], 49)\n",
    "chi2['Primary Type'] = chi2['Primary Type'].replace(['NON-CRIMINAL'], 50)\n",
    "chi2['Primary Type'] = chi2['Primary Type'].replace(['NON - CRIMINAL'], 51)\n",
    "\n",
    "from sklearn.preprocessing import StandardScaler\n",
    "scaler  = StandardScaler()\n",
    "chi2[['Beat']] = scaler.fit_transform(chi2[['Beat']])\n",
    "\n",
    "chi2['Arrest'] = chi2['Arrest'].astype(int)\n",
    "\n",
    "display(chi2.info())\n",
    "display(chi2['Primary Type'].unique())\n",
    "display(chi2.nunique())\n",
    "display(chi2)"
   ]
  },
  {
   "cell_type": "code",
   "execution_count": 106,
   "metadata": {},
   "outputs": [
    {
     "name": "stdout",
     "output_type": "stream",
     "text": [
      "Wall time: 58.7 s\n"
     ]
    }
   ],
   "source": [
    "%%time\n",
    "\n",
    "X = chi2.iloc[:, [0,2]]\n",
    "y = chi2.iloc[:, [1]]\n",
    "\n",
    "X_train , X_test , y_train, y_test = train_test_split(X, y, test_size=0.30, random_state=123,\n",
    "                                                      stratify=y)"
   ]
  },
  {
   "cell_type": "code",
   "execution_count": 35,
   "metadata": {},
   "outputs": [
    {
     "name": "stdout",
     "output_type": "stream",
     "text": [
      "NB Scores:  [0.71951059 0.71951059 0.71951059 0.71951059 0.71951059 0.71951059\n",
      " 0.71951059 0.71950989 0.71950989 0.71950989] \n",
      "\n",
      "Wall time: 13.9 s\n"
     ]
    }
   ],
   "source": [
    "%%time\n",
    "\n",
    "nb = GaussianNB()\n",
    "\n",
    "scores = cross_val_score(nb, X_train, y_train.values.ravel(), cv=10)\n",
    "print('NB Scores: ', scores, \"\\n\")"
   ]
  },
  {
   "cell_type": "code",
   "execution_count": 36,
   "metadata": {},
   "outputs": [
    {
     "name": "stdout",
     "output_type": "stream",
     "text": [
      "RDG Scores:  [0.71951059 0.71951059 0.71951059 0.71951059 0.71951059 0.71951059\n",
      " 0.71951059 0.71950989 0.71950989 0.71950989] \n",
      "\n",
      "Wall time: 18.1 s\n"
     ]
    }
   ],
   "source": [
    "%%time\n",
    "\n",
    "rdg = RidgeClassifier()\n",
    "\n",
    "scores = cross_val_score(rdg, X_train, y_train.values.ravel(), cv=10)\n",
    "print('RDG Scores: ', scores, \"\\n\")"
   ]
  },
  {
   "cell_type": "code",
   "execution_count": 37,
   "metadata": {},
   "outputs": [
    {
     "name": "stdout",
     "output_type": "stream",
     "text": [
      "DT Scores:  [0.87671682 0.87724306 0.8768881  0.87656788 0.8764388  0.87617816\n",
      " 0.87687817 0.87627963 0.87604133 0.87705162] \n",
      "\n",
      "Wall time: 1min 13s\n"
     ]
    }
   ],
   "source": [
    "%%time\n",
    "\n",
    "dt = DecisionTreeClassifier(random_state=0, max_depth=5)\n",
    "\n",
    "scores = cross_val_score(dt, X_train, y_train.values.ravel(), cv=10)\n",
    "print('DT Scores: ', scores, \"\\n\")"
   ]
  },
  {
   "cell_type": "code",
   "execution_count": 38,
   "metadata": {},
   "outputs": [
    {
     "name": "stdout",
     "output_type": "stream",
     "text": [
      "BG Scores:  [0.87733562 0.87701829 0.87674797] \n",
      "\n",
      "Wall time: 4min 14s\n"
     ]
    }
   ],
   "source": [
    "%%time\n",
    "\n",
    "bg = BaggingClassifier()\n",
    "\n",
    "scores = cross_val_score(bg, X_train, y_train.values.ravel(), cv=3)\n",
    "print('BG Scores: ', scores, \"\\n\")"
   ]
  },
  {
   "cell_type": "code",
   "execution_count": 39,
   "metadata": {},
   "outputs": [
    {
     "name": "stdout",
     "output_type": "stream",
     "text": [
      "RF Scores:  [0.8350105  0.83403781 0.83399834] \n",
      "\n",
      "Wall time: 12min 48s\n"
     ]
    }
   ],
   "source": [
    "%%time\n",
    "\n",
    "rf = RandomForestClassifier(max_depth=4, random_state=0)\n",
    "\n",
    "scores = cross_val_score(rf, X_train, y_train.values.ravel(), cv=3) \n",
    "print('RF Scores: ', scores, \"\\n\")"
   ]
  },
  {
   "cell_type": "code",
   "execution_count": 40,
   "metadata": {},
   "outputs": [
    {
     "name": "stdout",
     "output_type": "stream",
     "text": [
      "DT Scores:  [0.84693176 0.84708566 0.8464353  0.84645268 0.84654204 0.84594381\n",
      " 0.84606792 0.84637286 0.84638527 0.84654414] \n",
      "\n",
      "Wall time: 50.1 s\n"
     ]
    }
   ],
   "source": [
    "%%time\n",
    "\n",
    "dt = DecisionTreeClassifier(random_state=0, max_depth=3)\n",
    "\n",
    "scores = cross_val_score(dt, X_train, y_train.values.ravel(), cv=10)\n",
    "print('DT Scores: ', scores, \"\\n\")"
   ]
  },
  {
   "cell_type": "code",
   "execution_count": 41,
   "metadata": {},
   "outputs": [
    {
     "name": "stdout",
     "output_type": "stream",
     "text": [
      "DT Scores:  [0.71951059 0.71951059 0.71951059 0.71951059 0.71951059 0.71951059\n",
      " 0.71951059 0.71950989 0.71950989 0.71950989] \n",
      "\n",
      "Wall time: 22.5 s\n"
     ]
    }
   ],
   "source": [
    "%%time\n",
    "\n",
    "dt = DecisionTreeClassifier(random_state=0, max_depth=1)\n",
    "\n",
    "scores = cross_val_score(dt, X_train, y_train.values.ravel(), cv=10)\n",
    "print('DT Scores: ', scores, \"\\n\")"
   ]
  },
  {
   "cell_type": "code",
   "execution_count": 42,
   "metadata": {},
   "outputs": [
    {
     "name": "stdout",
     "output_type": "stream",
     "text": [
      "DT Scores:  [0.87669199 0.87726292 0.87688065 0.87655795 0.87638915 0.87617816\n",
      " 0.87686824 0.87628211 0.87604877 0.87702183] \n",
      "\n",
      "Wall time: 1min 33s\n"
     ]
    }
   ],
   "source": [
    "%%time\n",
    "\n",
    "dt = DecisionTreeClassifier(random_state=0, max_depth=7)\n",
    "\n",
    "scores = cross_val_score(dt, X_train, y_train.values.ravel(), cv=10)\n",
    "print('DT Scores: ', scores, \"\\n\")"
   ]
  },
  {
   "cell_type": "code",
   "execution_count": 43,
   "metadata": {},
   "outputs": [
    {
     "name": "stdout",
     "output_type": "stream",
     "text": [
      "DT Scores:  [0.87670937 0.87725548 0.87688313 0.87657284 0.87638667 0.87615582\n",
      " 0.87688313 0.87628211 0.87604133 0.87704169] \n",
      "\n",
      "Wall time: 1min 24s\n"
     ]
    }
   ],
   "source": [
    "%%time\n",
    "\n",
    "dt = DecisionTreeClassifier(random_state=0, max_depth=6)\n",
    "\n",
    "scores = cross_val_score(dt, X_train, y_train.values.ravel(), cv=10)\n",
    "print('DT Scores: ', scores, \"\\n\")"
   ]
  },
  {
   "cell_type": "code",
   "execution_count": 44,
   "metadata": {},
   "outputs": [
    {
     "name": "stdout",
     "output_type": "stream",
     "text": [
      "DT Scores:  [0.87669944 0.8772381  0.87710406 0.87656788 0.87665228 0.87646114\n",
      " 0.87689802 0.87655516 0.87607111 0.87700446] \n",
      "\n",
      "Wall time: 1min 49s\n"
     ]
    }
   ],
   "source": [
    "%%time\n",
    "\n",
    "dt = DecisionTreeClassifier(random_state=0, max_depth=8)\n",
    "\n",
    "scores = cross_val_score(dt, X_train, y_train.values.ravel(), cv=10)\n",
    "print('DT Scores: ', scores, \"\\n\")"
   ]
  },
  {
   "cell_type": "code",
   "execution_count": 45,
   "metadata": {},
   "outputs": [
    {
     "name": "stdout",
     "output_type": "stream",
     "text": [
      "DT Scores:  [0.87674909 0.87728278 0.8772381  0.87658029 0.87680866 0.8765083\n",
      " 0.87689554 0.8767041  0.87611828 0.87696971] \n",
      "\n",
      "Wall time: 1min 51s\n"
     ]
    }
   ],
   "source": [
    "%%time\n",
    "\n",
    "dt = DecisionTreeClassifier(random_state=0, max_depth=9)\n",
    "\n",
    "scores = cross_val_score(dt, X_train, y_train.values.ravel(), cv=10)\n",
    "print('DT Scores: ', scores, \"\\n\")"
   ]
  },
  {
   "cell_type": "code",
   "execution_count": 46,
   "metadata": {},
   "outputs": [
    {
     "name": "stdout",
     "output_type": "stream",
     "text": [
      "DT Scores:  [0.87702959 0.87760548 0.87727533 0.87683349 0.87680122 0.87657036\n",
      " 0.87716611 0.87667183 0.87643849 0.8772229 ] \n",
      "\n",
      "Wall time: 2min\n"
     ]
    }
   ],
   "source": [
    "%%time\n",
    "\n",
    "dt = DecisionTreeClassifier(random_state=0, max_depth=10)\n",
    "\n",
    "scores = cross_val_score(dt, X_train, y_train.values.ravel(), cv=10)\n",
    "print('DT Scores: ', scores, \"\\n\")"
   ]
  },
  {
   "cell_type": "code",
   "execution_count": 47,
   "metadata": {},
   "outputs": [
    {
     "name": "stdout",
     "output_type": "stream",
     "text": [
      "DT Scores:  [0.87668455 0.87725548 0.8768732  0.87656292 0.87635937 0.87613844\n",
      " 0.8768732  0.87623991 0.87602147 0.87698956] \n",
      "\n",
      "Wall time: 1min 1s\n"
     ]
    }
   ],
   "source": [
    "%%time\n",
    "\n",
    "dt = DecisionTreeClassifier(random_state=0, max_depth=4)\n",
    "\n",
    "scores = cross_val_score(dt, X_train, y_train.values.ravel(), cv=10)\n",
    "print('DT Scores: ', scores, \"\\n\")"
   ]
  },
  {
   "cell_type": "code",
   "execution_count": 48,
   "metadata": {},
   "outputs": [
    {
     "name": "stdout",
     "output_type": "stream",
     "text": [
      "DT Scores:  [0.87671682 0.87724306 0.8768881  0.87656788 0.8764388  0.87617816\n",
      " 0.87687817 0.87627963 0.87606118 0.87705162] \n",
      "\n",
      "Wall time: 1min 15s\n"
     ]
    }
   ],
   "source": [
    "%%time\n",
    "\n",
    "dt = DecisionTreeClassifier(random_state=0, criterion='entropy', max_depth=5)\n",
    "\n",
    "scores = cross_val_score(dt, X_train, y_train.values.ravel(), cv=10)\n",
    "print('DT Scores: ', scores, \"\\n\")"
   ]
  },
  {
   "cell_type": "code",
   "execution_count": 49,
   "metadata": {},
   "outputs": [
    {
     "name": "stdout",
     "output_type": "stream",
     "text": [
      "DT Scores:  [0.87671682 0.87724306 0.8768881  0.87656788 0.8764388  0.87617816\n",
      " 0.87687817 0.87627963 0.87604133 0.87705162] \n",
      "\n",
      "Wall time: 1min 12s\n"
     ]
    }
   ],
   "source": [
    "%%time\n",
    "\n",
    "dt = DecisionTreeClassifier(random_state=0, min_samples_split=5, max_depth=5)\n",
    "\n",
    "scores = cross_val_score(dt, X_train, y_train.values.ravel(), cv=10)\n",
    "print('DT Scores: ', scores, \"\\n\")"
   ]
  },
  {
   "cell_type": "code",
   "execution_count": 50,
   "metadata": {},
   "outputs": [
    {
     "name": "stdout",
     "output_type": "stream",
     "text": [
      "DT Scores:  [0.87671682 0.87724306 0.8768881  0.87656788 0.8764388  0.87617816\n",
      " 0.87687817 0.87627963 0.87604133 0.87705162] \n",
      "\n",
      "Wall time: 1min 12s\n"
     ]
    }
   ],
   "source": [
    "%%time\n",
    "\n",
    "dt = DecisionTreeClassifier(random_state=0, min_samples_split=10, max_depth=5)\n",
    "\n",
    "scores = cross_val_score(dt, X_train, y_train.values.ravel(), cv=10)\n",
    "print('DT Scores: ', scores, \"\\n\")"
   ]
  },
  {
   "cell_type": "code",
   "execution_count": 51,
   "metadata": {},
   "outputs": [
    {
     "name": "stdout",
     "output_type": "stream",
     "text": [
      "DT Scores:  [0.87671682 0.87724306 0.8768881  0.87656788 0.8764388  0.87617816\n",
      " 0.87687817 0.87627963 0.87604133 0.87705162] \n",
      "\n",
      "Wall time: 1min 12s\n"
     ]
    }
   ],
   "source": [
    "%%time\n",
    "\n",
    "dt = DecisionTreeClassifier(random_state=0, min_samples_split=10, min_samples_leaf=3, max_depth=5)\n",
    "\n",
    "scores = cross_val_score(dt, X_train, y_train.values.ravel(), cv=10)\n",
    "print('DT Scores: ', scores, \"\\n\")"
   ]
  },
  {
   "cell_type": "code",
   "execution_count": 52,
   "metadata": {},
   "outputs": [
    {
     "name": "stdout",
     "output_type": "stream",
     "text": [
      "DT Scores:  [0.87671682 0.87724306 0.8768881  0.87656788 0.8764388  0.87617816\n",
      " 0.87687817 0.87627963 0.87604133 0.87705162] \n",
      "\n",
      "Wall time: 1min 12s\n"
     ]
    }
   ],
   "source": [
    "%%time\n",
    "\n",
    "dt = DecisionTreeClassifier(random_state=0, min_samples_leaf=5, max_depth=5)\n",
    "\n",
    "scores = cross_val_score(dt, X_train, y_train.values.ravel(), cv=10)\n",
    "print('DT Scores: ', scores, \"\\n\")"
   ]
  },
  {
   "cell_type": "code",
   "execution_count": 53,
   "metadata": {},
   "outputs": [
    {
     "name": "stdout",
     "output_type": "stream",
     "text": [
      "DT Scores:  [0.71951059 0.71951059 0.71951059 0.71951059 0.71951059 0.71951059\n",
      " 0.71951059 0.71950989 0.71950989 0.71950989] \n",
      "\n",
      "Wall time: 17.8 s\n"
     ]
    }
   ],
   "source": [
    "%%time\n",
    "\n",
    "dt = DecisionTreeClassifier(random_state=0, min_weight_fraction_leaf=0.5, max_depth=5)\n",
    "\n",
    "scores = cross_val_score(dt, X_train, y_train.values.ravel(), cv=10)\n",
    "print('DT Scores: ', scores, \"\\n\")"
   ]
  },
  {
   "cell_type": "code",
   "execution_count": 54,
   "metadata": {},
   "outputs": [
    {
     "name": "stdout",
     "output_type": "stream",
     "text": [
      "DT Scores:  [0.84696651 0.84704098 0.84642785 0.8464353  0.84648991 0.84594629\n",
      " 0.84603565 0.84634804 0.8464101  0.846564  ] \n",
      "\n",
      "Wall time: 48.4 s\n"
     ]
    }
   ],
   "source": [
    "%%time\n",
    "\n",
    "dt = DecisionTreeClassifier(random_state=0, min_weight_fraction_leaf=0.1, max_depth=5)\n",
    "\n",
    "scores = cross_val_score(dt, X_train, y_train.values.ravel(), cv=10)\n",
    "print('DT Scores: ', scores, \"\\n\")"
   ]
  },
  {
   "cell_type": "code",
   "execution_count": 55,
   "metadata": {},
   "outputs": [
    {
     "name": "stdout",
     "output_type": "stream",
     "text": [
      "DT Scores:  [0.73803099 0.73988527 0.73915547 0.73822461 0.73768347 0.73839093\n",
      " 0.73822213 0.7372509  0.73872787 0.73800056] \n",
      "\n",
      "Wall time: 36.4 s\n"
     ]
    }
   ],
   "source": [
    "%%time\n",
    "\n",
    "dt = DecisionTreeClassifier(random_state=0, min_weight_fraction_leaf=0.2, max_depth=5)\n",
    "\n",
    "scores = cross_val_score(dt, X_train, y_train.values.ravel(), cv=10)\n",
    "print('DT Scores: ', scores, \"\\n\")"
   ]
  },
  {
   "cell_type": "code",
   "execution_count": 56,
   "metadata": {},
   "outputs": [
    {
     "name": "stdout",
     "output_type": "stream",
     "text": [
      "DT Scores:  [0.84806617 0.84866688 0.84824489 0.8477956  0.84789985 0.84775588\n",
      " 0.84752006 0.84730124 0.84785728 0.84815019] \n",
      "\n",
      "Wall time: 53.2 s\n"
     ]
    }
   ],
   "source": [
    "%%time\n",
    "\n",
    "dt = DecisionTreeClassifier(random_state=0, max_features='sqrt', max_depth=5)\n",
    "\n",
    "scores = cross_val_score(dt, X_train, y_train.values.ravel(), cv=10)\n",
    "print('DT Scores: ', scores, \"\\n\")"
   ]
  },
  {
   "cell_type": "code",
   "execution_count": 57,
   "metadata": {},
   "outputs": [
    {
     "name": "stdout",
     "output_type": "stream",
     "text": [
      "DT Scores:  [0.84806617 0.84866688 0.84824489 0.8477956  0.84789985 0.84775588\n",
      " 0.84752006 0.84730124 0.84785728 0.84815019] \n",
      "\n",
      "Wall time: 52.8 s\n"
     ]
    }
   ],
   "source": [
    "%%time\n",
    "\n",
    "dt = DecisionTreeClassifier(random_state=0, max_features='log2', max_depth=5)\n",
    "\n",
    "scores = cross_val_score(dt, X_train, y_train.values.ravel(), cv=10)\n",
    "print('DT Scores: ', scores, \"\\n\")"
   ]
  },
  {
   "cell_type": "code",
   "execution_count": 58,
   "metadata": {},
   "outputs": [
    {
     "name": "stdout",
     "output_type": "stream",
     "text": [
      "RF Scores:  [0.81700467 0.81595005 0.81607069] \n",
      "\n",
      "Wall time: 7min 41s\n"
     ]
    }
   ],
   "source": [
    "%%time\n",
    "\n",
    "rf = RandomForestClassifier(max_depth=2, random_state=0)\n",
    "\n",
    "scores = cross_val_score(rf, X_train, y_train.values.ravel(), cv=3) \n",
    "print('RF Scores: ', scores, \"\\n\")"
   ]
  },
  {
   "cell_type": "code",
   "execution_count": 59,
   "metadata": {},
   "outputs": [
    {
     "name": "stdout",
     "output_type": "stream",
     "text": [
      "RF Scores:  [0.81700467 0.81595005 0.81607069] \n",
      "\n",
      "Wall time: 7min 43s\n"
     ]
    }
   ],
   "source": [
    "%%time\n",
    "\n",
    "rf = RandomForestClassifier(max_depth=2, random_state=123)\n",
    "\n",
    "scores = cross_val_score(rf, X_train, y_train.values.ravel(), cv=3) \n",
    "print('RF Scores: ', scores, \"\\n\")"
   ]
  },
  {
   "cell_type": "code",
   "execution_count": null,
   "metadata": {},
   "outputs": [],
   "source": []
  },
  {
   "cell_type": "code",
   "execution_count": null,
   "metadata": {},
   "outputs": [],
   "source": []
  },
  {
   "cell_type": "code",
   "execution_count": null,
   "metadata": {},
   "outputs": [],
   "source": []
  },
  {
   "cell_type": "code",
   "execution_count": 61,
   "metadata": {},
   "outputs": [
    {
     "name": "stdout",
     "output_type": "stream",
     "text": [
      "[[1241008    1236]\n",
      " [ 285077  199191]]\n",
      "              precision    recall  f1-score   support\n",
      "\n",
      "           0       0.81      1.00      0.90   1242244\n",
      "           1       0.99      0.41      0.58    484268\n",
      "\n",
      "    accuracy                           0.83   1726512\n",
      "   macro avg       0.90      0.71      0.74   1726512\n",
      "weighted avg       0.86      0.83      0.81   1726512\n",
      "\n"
     ]
    },
    {
     "ename": "NameError",
     "evalue": "name 'metrics' is not defined",
     "output_type": "error",
     "traceback": [
      "\u001b[1;31m---------------------------------------------------------------------------\u001b[0m",
      "\u001b[1;31mNameError\u001b[0m                                 Traceback (most recent call last)",
      "\u001b[1;32m<timed exec>\u001b[0m in \u001b[0;36m<module>\u001b[1;34m\u001b[0m\n",
      "\u001b[1;31mNameError\u001b[0m: name 'metrics' is not defined"
     ]
    }
   ],
   "source": [
    "%%time\n",
    "\n",
    "from sklearn.neural_network import MLPClassifier\n",
    "from sklearn.metrics import classification_report, confusion_matrix, f1_score\n",
    "# scaler = preprocessing.RobustScaler().fit_transform(X_train)\n",
    "\n",
    "mlp = MLPClassifier(activation='logistic',alpha=0.0001,batch_size='auto',beta_1=0.9,beta_2=0.999,\n",
    "                    early_stopping=False,epsilon=1e-08,hidden_layer_sizes=(3,3,3),\n",
    "                    learning_rate='adaptive',learning_rate_init=0.001,max_iter=500,momentum=0.9,\n",
    "                    nesterovs_momentum=True,power_t=0.5,random_state=None,shuffle=True,solver='adam',\n",
    "                    tol=0.0001,validation_fraction=0.1,verbose=False,warm_start=False)\n",
    "\n",
    "# mlp.fit(scaler,y_train)\n",
    "mlp.fit(X_train,y_train.values.ravel())\n",
    "\n",
    "predictions = mlp.predict(X_test)\n",
    "print(confusion_matrix(y_test,predictions))\n",
    "print(classification_report(y_test,predictions))\n"
   ]
  },
  {
   "cell_type": "code",
   "execution_count": 63,
   "metadata": {},
   "outputs": [
    {
     "name": "stdout",
     "output_type": "stream",
     "text": [
      "0.80829521236747\n"
     ]
    }
   ],
   "source": [
    "\n",
    "from sklearn.metrics import f1_score\n",
    "\n",
    "print(f1_score(y_test, predictions, average='weighted', labels=np.unique(predictions)))"
   ]
  },
  {
   "cell_type": "code",
   "execution_count": 64,
   "metadata": {},
   "outputs": [
    {
     "name": "stdout",
     "output_type": "stream",
     "text": [
      "[[1241008    1236]\n",
      " [ 285077  199191]]\n",
      "              precision    recall  f1-score   support\n",
      "\n",
      "           0       0.81      1.00      0.90   1242244\n",
      "           1       0.99      0.41      0.58    484268\n",
      "\n",
      "    accuracy                           0.83   1726512\n",
      "   macro avg       0.90      0.71      0.74   1726512\n",
      "weighted avg       0.86      0.83      0.81   1726512\n",
      "\n",
      "0.80829521236747\n",
      "Wall time: 5min 14s\n"
     ]
    }
   ],
   "source": [
    "%%time\n",
    "\n",
    "from sklearn.neural_network import MLPClassifier\n",
    "from sklearn.metrics import classification_report, confusion_matrix, f1_score\n",
    "# scaler = preprocessing.RobustScaler().fit_transform(X_train)\n",
    "\n",
    "mlp = MLPClassifier(activation='logistic',alpha=0.0001,batch_size='auto',beta_1=0.9,beta_2=0.999,\n",
    "                    early_stopping=True,epsilon=1e-08,hidden_layer_sizes=(3,3,3),\n",
    "                    learning_rate='constant',learning_rate_init=0.001,max_iter=200,momentum=0.9,\n",
    "                    nesterovs_momentum=True,power_t=0.5,random_state=None,shuffle=True,solver='adam',\n",
    "                    tol=0.0001,validation_fraction=0.1,verbose=False,warm_start=False,\n",
    "                    n_iter_no_change=10)\n",
    "\n",
    "# mlp.fit(scaler,y_train)\n",
    "mlp.fit(X_train,y_train.values.ravel())\n",
    "\n",
    "predictions = mlp.predict(X_test)\n",
    "print(confusion_matrix(y_test,predictions))\n",
    "print(classification_report(y_test,predictions))\n",
    "print(f1_score(y_test, predictions, average='weighted', labels=np.unique(predictions)))"
   ]
  },
  {
   "cell_type": "code",
   "execution_count": 65,
   "metadata": {},
   "outputs": [
    {
     "name": "stdout",
     "output_type": "stream",
     "text": [
      "[[1242244       0]\n",
      " [ 484268       0]]\n"
     ]
    },
    {
     "name": "stderr",
     "output_type": "stream",
     "text": [
      "C:\\Users\\User\\anaconda3\\lib\\site-packages\\sklearn\\metrics\\_classification.py:1221: UndefinedMetricWarning: Precision and F-score are ill-defined and being set to 0.0 in labels with no predicted samples. Use `zero_division` parameter to control this behavior.\n",
      "  _warn_prf(average, modifier, msg_start, len(result))\n"
     ]
    },
    {
     "name": "stdout",
     "output_type": "stream",
     "text": [
      "              precision    recall  f1-score   support\n",
      "\n",
      "           0       0.72      1.00      0.84   1242244\n",
      "           1       0.00      0.00      0.00    484268\n",
      "\n",
      "    accuracy                           0.72   1726512\n",
      "   macro avg       0.36      0.50      0.42   1726512\n",
      "weighted avg       0.52      0.72      0.60   1726512\n",
      "\n",
      "0.8368784770456043\n",
      "Wall time: 8min 8s\n"
     ]
    }
   ],
   "source": [
    "%%time\n",
    "\n",
    "mlp = MLPClassifier(activation='relu',alpha=0.0001,batch_size='auto',beta_1=0.9,beta_2=0.999,\n",
    "                    early_stopping=True,epsilon=1e-08,hidden_layer_sizes=(3,3,3),\n",
    "                    learning_rate='constant',learning_rate_init=0.001,max_iter=200,momentum=0.9,\n",
    "                    nesterovs_momentum=True,power_t=0.5,random_state=None,shuffle=True,solver='adam',\n",
    "                    tol=0.0001,validation_fraction=0.1,verbose=False,warm_start=False,\n",
    "                    n_iter_no_change=10)\n",
    "\n",
    "# mlp.fit(scaler,y_train)\n",
    "mlp.fit(X_train,y_train.values.ravel())\n",
    "\n",
    "predictions = mlp.predict(X_test)\n",
    "print(confusion_matrix(y_test,predictions))\n",
    "print(classification_report(y_test,predictions))\n",
    "print(f1_score(y_test, predictions, average='weighted', labels=np.unique(predictions)))"
   ]
  },
  {
   "cell_type": "code",
   "execution_count": 66,
   "metadata": {},
   "outputs": [
    {
     "name": "stdout",
     "output_type": "stream",
     "text": [
      "[[1241008    1236]\n",
      " [ 285077  199191]]\n",
      "              precision    recall  f1-score   support\n",
      "\n",
      "           0       0.81      1.00      0.90   1242244\n",
      "           1       0.99      0.41      0.58    484268\n",
      "\n",
      "    accuracy                           0.83   1726512\n",
      "   macro avg       0.90      0.71      0.74   1726512\n",
      "weighted avg       0.86      0.83      0.81   1726512\n",
      "\n",
      "0.80829521236747\n",
      "Wall time: 6min 27s\n"
     ]
    }
   ],
   "source": [
    "%%time\n",
    "\n",
    "mlp = MLPClassifier(activation='logistic',alpha=0.0001,batch_size='auto',beta_1=0.9,beta_2=0.999,\n",
    "                    early_stopping=True,epsilon=1e-08,hidden_layer_sizes=(10,10,10),\n",
    "                    learning_rate='constant',learning_rate_init=0.001,max_iter=200,momentum=0.9,\n",
    "                    nesterovs_momentum=True,power_t=0.5,random_state=None,shuffle=True,solver='adam',\n",
    "                    tol=0.0001,validation_fraction=0.1,verbose=False,warm_start=False,\n",
    "                    n_iter_no_change=10)\n",
    "\n",
    "# mlp.fit(scaler,y_train)\n",
    "mlp.fit(X_train,y_train.values.ravel())\n",
    "\n",
    "predictions = mlp.predict(X_test)\n",
    "print(confusion_matrix(y_test,predictions))\n",
    "print(classification_report(y_test,predictions))\n",
    "print(f1_score(y_test, predictions, average='weighted', labels=np.unique(predictions)))"
   ]
  },
  {
   "cell_type": "code",
   "execution_count": 67,
   "metadata": {},
   "outputs": [
    {
     "name": "stdout",
     "output_type": "stream",
     "text": [
      "[[1215407   26837]\n",
      " [ 190614  293654]]\n",
      "              precision    recall  f1-score   support\n",
      "\n",
      "           0       0.86      0.98      0.92   1242244\n",
      "           1       0.92      0.61      0.73    484268\n",
      "\n",
      "    accuracy                           0.87   1726512\n",
      "   macro avg       0.89      0.79      0.82   1726512\n",
      "weighted avg       0.88      0.87      0.87   1726512\n",
      "\n",
      "0.865130466433789\n",
      "Wall time: 16min 27s\n"
     ]
    }
   ],
   "source": [
    "%%time\n",
    "\n",
    "mlp = MLPClassifier(activation='logistic',alpha=0.0001,batch_size='auto',beta_1=0.9,beta_2=0.999,\n",
    "                    early_stopping=True,epsilon=1e-08,hidden_layer_sizes=(25,25,25),\n",
    "                    learning_rate='constant',learning_rate_init=0.001,max_iter=200,momentum=0.9,\n",
    "                    nesterovs_momentum=True,power_t=0.5,random_state=None,shuffle=True,solver='adam',\n",
    "                    tol=0.0001,validation_fraction=0.1,verbose=False,warm_start=False,\n",
    "                    n_iter_no_change=10)\n",
    "\n",
    "# mlp.fit(scaler,y_train)\n",
    "mlp.fit(X_train,y_train.values.ravel())\n",
    "\n",
    "predictions = mlp.predict(X_test)\n",
    "print(confusion_matrix(y_test,predictions))\n",
    "print(classification_report(y_test,predictions))\n",
    "print(f1_score(y_test, predictions, average='weighted', labels=np.unique(predictions)))"
   ]
  },
  {
   "cell_type": "code",
   "execution_count": 68,
   "metadata": {},
   "outputs": [
    {
     "name": "stdout",
     "output_type": "stream",
     "text": [
      "[[1215355   26889]\n",
      " [ 186558  297710]]\n",
      "              precision    recall  f1-score   support\n",
      "\n",
      "           0       0.87      0.98      0.92   1242244\n",
      "           1       0.92      0.61      0.74    484268\n",
      "\n",
      "    accuracy                           0.88   1726512\n",
      "   macro avg       0.89      0.80      0.83   1726512\n",
      "weighted avg       0.88      0.88      0.87   1726512\n",
      "\n",
      "0.8679015963798768\n"
     ]
    }
   ],
   "source": [
    "mlp = MLPClassifier(activation='logistic',alpha=0.0001,batch_size='auto',beta_1=0.9,beta_2=0.999,\n",
    "                    early_stopping=True,epsilon=1e-08,hidden_layer_sizes=(50,50,50),\n",
    "                    learning_rate='constant',learning_rate_init=0.001,max_iter=200,momentum=0.9,\n",
    "                    nesterovs_momentum=True,power_t=0.5,random_state=None,shuffle=True,solver='adam',\n",
    "                    tol=0.0001,validation_fraction=0.1,verbose=False,warm_start=False,\n",
    "                    n_iter_no_change=10)\n",
    "\n",
    "# mlp.fit(scaler,y_train)\n",
    "mlp.fit(X_train,y_train.values.ravel())\n",
    "\n",
    "predictions = mlp.predict(X_test)\n",
    "print(confusion_matrix(y_test,predictions))\n",
    "print(classification_report(y_test,predictions))\n",
    "print(f1_score(y_test, predictions, average='weighted', labels=np.unique(predictions)))"
   ]
  },
  {
   "cell_type": "code",
   "execution_count": 69,
   "metadata": {},
   "outputs": [
    {
     "name": "stdout",
     "output_type": "stream",
     "text": [
      "[[1215355   26889]\n",
      " [ 186558  297710]]\n",
      "              precision    recall  f1-score   support\n",
      "\n",
      "           0       0.87      0.98      0.92   1242244\n",
      "           1       0.92      0.61      0.74    484268\n",
      "\n",
      "    accuracy                           0.88   1726512\n",
      "   macro avg       0.89      0.80      0.83   1726512\n",
      "weighted avg       0.88      0.88      0.87   1726512\n",
      "\n",
      "0.8679015963798768\n",
      "Wall time: 2h 47min 2s\n"
     ]
    }
   ],
   "source": [
    "%%time\n",
    "\n",
    "mlp = MLPClassifier(activation='logistic',alpha=0.0001,batch_size='auto',beta_1=0.9,beta_2=0.999,\n",
    "                    early_stopping=True,epsilon=1e-08,hidden_layer_sizes=(200,200,200),\n",
    "                    learning_rate='constant',learning_rate_init=0.001,max_iter=200,momentum=0.9,\n",
    "                    nesterovs_momentum=True,power_t=0.5,random_state=None,shuffle=True,solver='adam',\n",
    "                     tol=0.0001,validation_fraction=0.1,verbose=False,warm_start=False,\n",
    "                    n_iter_no_change=10)\n",
    "\n",
    "mlp.fit(X_train,y_train.values.ravel())\n",
    "\n",
    "predictions = mlp.predict(X_test)\n",
    "print(confusion_matrix(y_test,predictions))\n",
    "print(classification_report(y_test,predictions))\n",
    "print(f1_score(y_test, predictions, average='weighted', labels=np.unique(predictions)))"
   ]
  },
  {
   "cell_type": "code",
   "execution_count": null,
   "metadata": {},
   "outputs": [],
   "source": []
  },
  {
   "cell_type": "code",
   "execution_count": null,
   "metadata": {},
   "outputs": [],
   "source": []
  },
  {
   "cell_type": "code",
   "execution_count": null,
   "metadata": {},
   "outputs": [],
   "source": []
  },
  {
   "cell_type": "code",
   "execution_count": 108,
   "metadata": {},
   "outputs": [
    {
     "name": "stdout",
     "output_type": "stream",
     "text": [
      "DT Scores:  [0.87463417 0.87524482 0.87660511 0.87465899 0.87446786 0.87591504\n",
      " 0.87486254 0.87421932 0.87404307 0.87499876] \n",
      "\n",
      "Wall time: 1min 37s\n"
     ]
    }
   ],
   "source": [
    "%%time\n",
    "\n",
    "dt = DecisionTreeClassifier(random_state=0, class_weight='balanced',max_depth=5)\n",
    "\n",
    "scores = cross_val_score(dt, X_train, y_train.values.ravel(), cv=10)\n",
    "print('DT Scores: ', scores, \"\\n\")"
   ]
  },
  {
   "cell_type": "code",
   "execution_count": 109,
   "metadata": {},
   "outputs": [
    {
     "name": "stdout",
     "output_type": "stream",
     "text": [
      "DT Scores:  [0.87669448 0.87720583 0.87684838 0.87653065 0.87636433 0.87614341\n",
      " 0.876831   0.87620019 0.87604133 0.87700694] \n",
      "\n",
      "Wall time: 1min 26s\n"
     ]
    }
   ],
   "source": [
    "%%time\n",
    "\n",
    "dt = DecisionTreeClassifier(random_state=0, ccp_alpha=0.01, max_depth=5)\n",
    "\n",
    "scores = cross_val_score(dt, X_train, y_train.values.ravel(), cv=10)\n",
    "print('DT Scores: ', scores, \"\\n\")"
   ]
  },
  {
   "cell_type": "code",
   "execution_count": 110,
   "metadata": {},
   "outputs": [
    {
     "name": "stdout",
     "output_type": "stream",
     "text": [
      "C = 0.001\n",
      "\n",
      "DT Scores:  [0.87669448 0.87720583 0.87684838 0.87653065 0.87636433 0.87614341\n",
      " 0.876831   0.87620019 0.87604133 0.87700694] \n",
      "\n",
      "C = 0.01\n",
      "\n",
      "DT Scores:  [0.87669448 0.87720583 0.87684838 0.87653065 0.87636433 0.87614341\n",
      " 0.876831   0.87620019 0.87604133 0.87700694] \n",
      "\n",
      "C = 0.1\n",
      "\n",
      "DT Scores:  [0.71951059 0.71951059 0.71951059 0.71951059 0.71951059 0.71951059\n",
      " 0.71951059 0.71950989 0.71950989 0.71950989] \n",
      "\n",
      "C = 1\n",
      "\n",
      "DT Scores:  [0.71951059 0.71951059 0.71951059 0.71951059 0.71951059 0.71951059\n",
      " 0.71951059 0.71950989 0.71950989 0.71950989] \n",
      "\n",
      "C = 10\n",
      "\n",
      "DT Scores:  [0.71951059 0.71951059 0.71951059 0.71951059 0.71951059 0.71951059\n",
      " 0.71951059 0.71950989 0.71950989 0.71950989] \n",
      "\n",
      "C = 100\n",
      "\n",
      "DT Scores:  [0.71951059 0.71951059 0.71951059 0.71951059 0.71951059 0.71951059\n",
      " 0.71951059 0.71950989 0.71950989 0.71950989] \n",
      "\n"
     ]
    }
   ],
   "source": [
    "C = [.001,.01,.1,1,10,100]  \n",
    "for c in C:\n",
    "    print(f'C = {c}\\n')\n",
    "\n",
    "    dt = DecisionTreeClassifier(random_state=0, ccp_alpha=c, max_depth=5)\n",
    "\n",
    "    scores = cross_val_score(dt, X_train, y_train.values.ravel(), cv=10)\n",
    "    print('DT Scores: ', scores, \"\\n\")\n",
    "    \n",
    "    "
   ]
  },
  {
   "cell_type": "code",
   "execution_count": 111,
   "metadata": {},
   "outputs": [
    {
     "name": "stdout",
     "output_type": "stream",
     "text": [
      "C = 0.01\n",
      "\n",
      "DT Scores:  [0.87669448 0.87720583 0.87684838 0.87653065 0.87636433 0.87614341\n",
      " 0.876831   0.87620019 0.87604133 0.87700694] \n",
      "\n",
      "C = 0.001\n",
      "\n",
      "DT Scores:  [0.87669448 0.87720583 0.87684838 0.87653065 0.87636433 0.87614341\n",
      " 0.876831   0.87620019 0.87604133 0.87700694] \n",
      "\n",
      "C = 0.0001\n",
      "\n",
      "DT Scores:  [0.87669448 0.87720583 0.87684838 0.87653065 0.87636433 0.87614341\n",
      " 0.876831   0.87620019 0.87604133 0.87700694] \n",
      "\n",
      "C = 1e-05\n",
      "\n",
      "DT Scores:  [0.87669448 0.87720583 0.87684838 0.87653065 0.87636433 0.87614341\n",
      " 0.876831   0.87620019 0.87604133 0.87700694] \n",
      "\n",
      "C = 1e-05\n",
      "\n",
      "DT Scores:  [0.87669448 0.87720583 0.87684838 0.87653065 0.87636433 0.87614341\n",
      " 0.876831   0.87620019 0.87604133 0.87700694] \n",
      "\n"
     ]
    }
   ],
   "source": [
    "C = [.01,.001,.0001,.00001,.000001]  \n",
    "for c in C:\n",
    "    print(f'C = {c}\\n')\n",
    "\n",
    "    dt = DecisionTreeClassifier(random_state=0, ccp_alpha=c, max_depth=5)\n",
    "\n",
    "    scores = cross_val_score(dt, X_train, y_train.values.ravel(), cv=10)\n",
    "    print('DT Scores: ', scores, \"\\n\")"
   ]
  },
  {
   "cell_type": "code",
   "execution_count": 112,
   "metadata": {},
   "outputs": [
    {
     "name": "stdout",
     "output_type": "stream",
     "text": [
      "C = 10\n",
      "\n",
      "DT Scores:  [0.71951059 0.71951059 0.71951059 0.71951059 0.71951059 0.71951059\n",
      " 0.71951059 0.71950989 0.71950989 0.71950989] \n",
      "\n",
      "C = 1\n",
      "\n",
      "DT Scores:  [0.71951059 0.71951059 0.71951059 0.71951059 0.71951059 0.71951059\n",
      " 0.71951059 0.71950989 0.71950989 0.71950989] \n",
      "\n",
      "C = 0.01\n",
      "\n",
      "DT Scores:  [0.87669448 0.87720583 0.87684838 0.87653065 0.87636433 0.87614341\n",
      " 0.876831   0.87620019 0.87604133 0.87700694] \n",
      "\n",
      "C = 0.001\n",
      "\n",
      "DT Scores:  [0.87669448 0.87720583 0.87684838 0.87653065 0.87636433 0.87614341\n",
      " 0.876831   0.87620019 0.87604133 0.87700694] \n",
      "\n",
      "C = 0.0001\n",
      "\n",
      "DT Scores:  [0.87669448 0.87720583 0.87684838 0.87653065 0.87636433 0.87614341\n",
      " 0.876831   0.87620019 0.87604133 0.87700694] \n",
      "\n",
      "C = 1e-05\n",
      "\n",
      "DT Scores:  [0.87669448 0.87720583 0.87684838 0.87653065 0.87636433 0.87614341\n",
      " 0.876831   0.87620019 0.87604133 0.87700694] \n",
      "\n",
      "C = 1e-06\n",
      "\n",
      "DT Scores:  [0.87671682 0.87724306 0.8768881  0.87656788 0.8764388  0.87617816\n",
      " 0.87687817 0.87623246 0.87604133 0.87705162] \n",
      "\n"
     ]
    }
   ],
   "source": [
    "# C = [.01,.001,.0001,.00001,.000001]  \n",
    "C = [10,1,.01,.001,.0001,.00001,.000001]  \n",
    "\n",
    "for c in C:\n",
    "    print(f'C = {c}\\n')\n",
    "\n",
    "    dt = DecisionTreeClassifier(random_state=0, min_impurity_decrease=c, max_depth=5)\n",
    "\n",
    "    scores = cross_val_score(dt, X_train, y_train.values.ravel(), cv=10)\n",
    "    print('DT Scores: ', scores, \"\\n\")"
   ]
  },
  {
   "cell_type": "code",
   "execution_count": 113,
   "metadata": {},
   "outputs": [
    {
     "name": "stdout",
     "output_type": "stream",
     "text": [
      "C = 1e-06\n",
      "\n",
      "DT Scores:  [0.87671682 0.87724306 0.8768881  0.87656788 0.8764388  0.87617816\n",
      " 0.87687817 0.87623246 0.87604133 0.87705162] \n",
      "\n",
      "C = 1e-07\n",
      "\n",
      "DT Scores:  [0.87671682 0.87724306 0.8768881  0.87656788 0.8764388  0.87617816\n",
      " 0.87687817 0.87627963 0.87604133 0.87705162] \n",
      "\n",
      "C = 1e-08\n",
      "\n",
      "DT Scores:  [0.87671682 0.87724306 0.8768881  0.87656788 0.8764388  0.87617816\n",
      " 0.87687817 0.87627963 0.87604133 0.87705162] \n",
      "\n",
      "C = 1e-09\n",
      "\n",
      "DT Scores:  [0.87671682 0.87724306 0.8768881  0.87656788 0.8764388  0.87617816\n",
      " 0.87687817 0.87627963 0.87604133 0.87705162] \n",
      "\n",
      "C = 1e-10\n",
      "\n",
      "DT Scores:  [0.87671682 0.87724306 0.8768881  0.87656788 0.8764388  0.87617816\n",
      " 0.87687817 0.87627963 0.87604133 0.87705162] \n",
      "\n"
     ]
    }
   ],
   "source": [
    "C = [.000001,.0000001,.00000001,.000000001,.0000000001]  \n",
    "\n",
    "for c in C:\n",
    "    print(f'C = {c}\\n')\n",
    "\n",
    "    dt = DecisionTreeClassifier(random_state=0, min_impurity_decrease=c, max_depth=5)\n",
    "\n",
    "    scores = cross_val_score(dt, X_train, y_train.values.ravel(), cv=10)\n",
    "    print('DT Scores: ', scores, \"\\n\")"
   ]
  },
  {
   "cell_type": "code",
   "execution_count": 115,
   "metadata": {},
   "outputs": [
    {
     "name": "stdout",
     "output_type": "stream",
     "text": [
      "DT Scores:  [0.87731009 0.87795796 0.87749874 0.87697498 0.8769154  0.87670689\n",
      " 0.87751612 0.87676119 0.87667431 0.87744134] \n",
      "\n",
      "Wall time: 2min 21s\n"
     ]
    }
   ],
   "source": [
    "%%time\n",
    "\n",
    "dt = DecisionTreeClassifier(random_state=0, min_impurity_decrease=0.000001)\n",
    "\n",
    "scores = cross_val_score(dt, X_train, y_train.values.ravel(), cv=10)\n",
    "print('DT Scores: ', scores, \"\\n\")\n",
    "\n",
    "    "
   ]
  },
  {
   "cell_type": "code",
   "execution_count": 116,
   "metadata": {},
   "outputs": [
    {
     "name": "stdout",
     "output_type": "stream",
     "text": [
      "C = 3\n",
      "\n",
      "DT Scores:  [0.87731009 0.87795796 0.87749874 0.87697498 0.8769154  0.87670689\n",
      " 0.87751612 0.87676119 0.87667431 0.87744134] \n",
      "\n",
      "C = 4\n",
      "\n",
      "DT Scores:  [0.87731009 0.87795796 0.87749874 0.87697498 0.8769154  0.87670689\n",
      " 0.87751612 0.87676119 0.87667431 0.87744134] \n",
      "\n",
      "C = 5\n",
      "\n",
      "DT Scores:  [0.87731009 0.87795796 0.87749874 0.87697498 0.8769154  0.87670689\n",
      " 0.87751612 0.87676119 0.87667431 0.87744134] \n",
      "\n",
      "Wall time: 6min 58s\n"
     ]
    }
   ],
   "source": [
    "%%time\n",
    "\n",
    "C = [3,4,5]  \n",
    "\n",
    "for c in C:\n",
    "    print(f'C = {c}\\n')\n",
    "\n",
    "    dt = DecisionTreeClassifier(random_state=0, min_impurity_decrease=0.000001, min_samples_split=c)\n",
    "\n",
    "    scores = cross_val_score(dt, X_train, y_train.values.ravel(), cv=10)\n",
    "    print('DT Scores: ', scores, \"\\n\")\n"
   ]
  },
  {
   "cell_type": "code",
   "execution_count": 117,
   "metadata": {},
   "outputs": [
    {
     "name": "stdout",
     "output_type": "stream",
     "text": [
      "C = 0.5\n",
      "\n",
      "DT Scores:  [0.71951059 0.71951059 0.71951059 0.71951059 0.71951059 0.71951059\n",
      " 0.71951059 0.71950989 0.71950989 0.71950989] \n",
      "\n",
      "C = 1\n",
      "\n",
      "DT Scores:  [0.87731009 0.87795796 0.87749874 0.87697498 0.8769154  0.87670689\n",
      " 0.87751612 0.87676119 0.87667431 0.87744134] \n",
      "\n",
      "C = 2\n",
      "\n",
      "DT Scores:  [0.87731009 0.87795796 0.87749874 0.87697498 0.8769154  0.87670689\n",
      " 0.87751612 0.87676119 0.87667431 0.87744134] \n",
      "\n",
      "C = 3\n",
      "\n",
      "DT Scores:  [0.87731009 0.87795796 0.87749874 0.87697498 0.8769154  0.87670689\n",
      " 0.87751612 0.87676119 0.87667431 0.87744134] \n",
      "\n",
      "C = 4\n",
      "\n",
      "DT Scores:  [0.87731009 0.87795796 0.87749874 0.87697498 0.8769154  0.87670689\n",
      " 0.87751612 0.87676119 0.87667431 0.87744134] \n",
      "\n",
      "Wall time: 9min 33s\n"
     ]
    }
   ],
   "source": [
    "%%time\n",
    "\n",
    "C = [.5,1,2,3,4]  \n",
    "\n",
    "for c in C:\n",
    "    print(f'C = {c}\\n')\n",
    "\n",
    "    dt = DecisionTreeClassifier(random_state=0, min_impurity_decrease=0.000001, min_samples_leaf=c)\n",
    "\n",
    "    scores = cross_val_score(dt, X_train, y_train.values.ravel(), cv=10)\n",
    "    print('DT Scores: ', scores, \"\\n\")"
   ]
  },
  {
   "cell_type": "code",
   "execution_count": 122,
   "metadata": {},
   "outputs": [
    {
     "name": "stdout",
     "output_type": "stream",
     "text": [
      "C = 4\n",
      "\n",
      "DT Scores:  [0.87731009 0.87795796 0.87749874 0.87697498 0.8769154  0.87670689\n",
      " 0.87751612 0.87676119 0.87667431 0.87744134] \n",
      "\n",
      "C = 5\n",
      "\n",
      "DT Scores:  [0.87731009 0.87795796 0.87749874 0.87697498 0.8769154  0.87670689\n",
      " 0.87751612 0.87676119 0.87667431 0.87744134] \n",
      "\n",
      "C = 6\n",
      "\n",
      "DT Scores:  [0.87731009 0.87795796 0.87749874 0.87697746 0.8769154  0.87670689\n",
      " 0.87751612 0.87676119 0.87667431 0.87744134] \n",
      "\n",
      "C = 10\n",
      "\n",
      "DT Scores:  [0.87731009 0.87795548 0.87749874 0.87697746 0.8769154  0.87670689\n",
      " 0.87751612 0.87676616 0.87667431 0.87744134] \n",
      "\n",
      "C = 15\n",
      "\n",
      "DT Scores:  [0.87731009 0.87795548 0.87749874 0.87698739 0.8769154  0.87670689\n",
      " 0.87751612 0.87676616 0.87667431 0.87744134] \n",
      "\n",
      "Wall time: 11min 43s\n"
     ]
    }
   ],
   "source": [
    "%%time\n",
    "\n",
    "C = [4,5,6,10,15]  \n",
    "\n",
    "for c in C:\n",
    "    print(f'C = {c}\\n')\n",
    "\n",
    "    dt = DecisionTreeClassifier(random_state=0, min_impurity_decrease=0.000001, min_samples_leaf=c)\n",
    "\n",
    "    scores = cross_val_score(dt, X_train, y_train.values.ravel(), cv=10)\n",
    "    print('DT Scores: ', scores, \"\\n\")"
   ]
  },
  {
   "cell_type": "code",
   "execution_count": 118,
   "metadata": {},
   "outputs": [
    {
     "name": "stdout",
     "output_type": "stream",
     "text": [
      "C = 5\n",
      "\n",
      "RF Scores:  [0.87728126 0.87703095 0.87675244] \n",
      "\n",
      "C = 10\n",
      "\n",
      "RF Scores:  [0.87732818 0.87701234 0.87676957] \n",
      "\n",
      "C = 25\n",
      "\n",
      "RF Scores:  [0.87736616 0.87705181 0.87675095] \n",
      "\n",
      "C = 50\n",
      "\n",
      "RF Scores:  [0.87739296 0.87703989 0.87674946] \n",
      "\n",
      "C = 100\n",
      "\n",
      "RF Scores:  [0.87738924 0.87705851 0.87680159] \n",
      "\n",
      "Wall time: 1h 5min 28s\n"
     ]
    }
   ],
   "source": [
    "%%time\n",
    "\n",
    "C = [5,10,25,50,100]  \n",
    "\n",
    "for c in C:\n",
    "    print(f'C = {c}\\n')\n",
    "\n",
    "    rf = RandomForestClassifier(n_estimators=c, random_state=None)\n",
    "\n",
    "    scores = cross_val_score(rf, X_train, y_train.values.ravel(), cv=3) \n",
    "    print('RF Scores: ', scores, \"\\n\")"
   ]
  },
  {
   "cell_type": "code",
   "execution_count": 121,
   "metadata": {},
   "outputs": [
    {
     "name": "stdout",
     "output_type": "stream",
     "text": [
      "DT Scores:  [0.87731009 0.87795796 0.87749874 0.87697498 0.8769154  0.87670689\n",
      " 0.87751612 0.87676119 0.87667431 0.87744134] \n",
      "\n",
      "[[1237883    4361]\n",
      " [ 283548  200720]]\n",
      "              precision    recall  f1-score   support\n",
      "\n",
      "           0       0.81      1.00      0.90   1242244\n",
      "           1       0.98      0.41      0.58    484268\n",
      "\n",
      "    accuracy                           0.83   1726512\n",
      "   macro avg       0.90      0.71      0.74   1726512\n",
      "weighted avg       0.86      0.83      0.81   1726512\n",
      "\n",
      "accuracy_score\n",
      "0.8769947732769885\n",
      "f1_score\n",
      "0.8078968481163529\n",
      "Wall time: 3min 6s\n"
     ]
    }
   ],
   "source": [
    "%%time\n",
    "\n",
    "from sklearn.metrics import accuracy_score\n",
    "\n",
    "dt = DecisionTreeClassifier(random_state=0, min_impurity_decrease=0.000001) #, min_samples_split=c)\n",
    "\n",
    "scores = cross_val_score(dt, X_train, y_train.values.ravel(), cv=10)\n",
    "print('DT Scores: ', scores, \"\\n\")\n",
    "\n",
    "\n",
    "dt.fit(X_train,y_train.values.ravel())\n",
    "prediction = dt.predict(X_test) \n",
    "\n",
    "\n",
    "\n",
    "predictions = mlp.predict(X_test)\n",
    "print(confusion_matrix(y_test,predictions))\n",
    "print(classification_report(y_test,predictions))\n",
    "print('accuracy_score')\n",
    "print(accuracy_score(prediction, y_test))\n",
    "print('f1_score')\n",
    "print(f1_score(y_test, predictions, average='weighted', labels=np.unique(predictions)))\n",
    "\n"
   ]
  },
  {
   "cell_type": "code",
   "execution_count": null,
   "metadata": {},
   "outputs": [],
   "source": []
  }
 ],
 "metadata": {
  "kernelspec": {
   "display_name": "Python 3",
   "language": "python",
   "name": "python3"
  },
  "language_info": {
   "codemirror_mode": {
    "name": "ipython",
    "version": 3
   },
   "file_extension": ".py",
   "mimetype": "text/x-python",
   "name": "python",
   "nbconvert_exporter": "python",
   "pygments_lexer": "ipython3",
   "version": "3.8.3"
  }
 },
 "nbformat": 4,
 "nbformat_minor": 4
}
